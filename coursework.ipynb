{
 "cells": [
  {
   "cell_type": "markdown",
   "metadata": {
    "id": "RGlp4sb-8i3i"
   },
   "source": [
    "# Coursework: Self-supervised learning\n",
    "\n",
    "In this coursework, you will explore the popular self-supervised contrastive learning approach [SimCLR]((https://arxiv.org/abs/2002.05709)).\n",
    "\n",
    "You will be asked to implement some of the key components of SimCLR, including a suitable data augmentation strategy (for generating positive pairs), the SimCLR loss function, and the SimCLR training step. Additionally, you will be using transfer learning strategies for evaluating the performance of different pre-trained models for a downstream classification task.\n",
    "\n",
    "The coursework is divided into three-parts:\n",
    "- **Part A:** Implementation of a suitable dataset for contrastive model training;\n",
    "- **Part B:** Implementation of the SimCLR loss and training step;\n",
    "- **Part C:** Implementation of transfer learning strategies (linear probing and finetuning) for model evaluation.\n",
    "\n",
    "**Important:** Read the text descriptions carefully and look out for hints and comments indicating a specific 'TASK'. Make sure to add sufficient documentation to your code.\n",
    "\n",
    "**Submission:** You are asked to submit two versions of your notebook:\n",
    "1. You should submit the raw notebook in `.ipynb` format with *all outputs cleared*. Please name your file `coursework.ipynb`.\n",
    "2. Additionally, you will be asked to submit an exported version of your notebook in `.pdf` format, with *all outputs included*. We will primarily use this version for marking, but we will use the raw notebook to check for correct implementations. Please name this file `coursework_export.pdf`."
   ]
  },
  {
   "cell_type": "markdown",
   "metadata": {
    "id": "zxpFCs1SSOGF"
   },
   "source": [
    "## Your details\n",
    "\n",
    "Please add your details below. You can work in groups up to two.\n",
    "\n",
    "Authors: **Angelos Ragkousis** & **Kyveli Christina Tsioli**\n",
    "\n",
    "DoC alias: **ar2523** & **kt1923**"
   ]
  },
  {
   "cell_type": "markdown",
   "metadata": {
    "id": "y4nr-pFhSOGF"
   },
   "source": [
    "## Setup"
   ]
  },
  {
   "cell_type": "code",
   "execution_count": 1,
   "metadata": {
    "ExecuteTime": {
     "end_time": "2024-02-19T20:40:40.445871Z",
     "start_time": "2024-02-19T20:40:40.437683Z"
    },
    "id": "dhdSe7hJ8jqO"
   },
   "outputs": [],
   "source": [
    "# On Google Colab uncomment the following line to install PyTorch Lightning and the MedMNIST dataset\n",
    "#!pip install lightning medmnist"
   ]
  },
  {
   "cell_type": "code",
   "execution_count": 1,
   "metadata": {
    "ExecuteTime": {
     "end_time": "2024-02-19T20:40:51.774954Z",
     "start_time": "2024-02-19T20:40:40.770870Z"
    },
    "id": "DJAj8P5r8i3m"
   },
   "outputs": [],
   "source": [
    "import os\n",
    "import numpy as np\n",
    "import torch\n",
    "import torch.nn as nn\n",
    "import torch.nn.functional as F\n",
    "import torchvision\n",
    "import matplotlib.pyplot as plt\n",
    "\n",
    "from torch.utils.data import DataLoader\n",
    "from torchvision import models\n",
    "from torchvision import transforms\n",
    "from pytorch_lightning import LightningModule, LightningDataModule, Trainer, seed_everything\n",
    "from pytorch_lightning.loggers import TensorBoardLogger\n",
    "from pytorch_lightning.callbacks import ModelCheckpoint, TQDMProgressBar\n",
    "from torchmetrics.functional import auroc\n",
    "from PIL import Image\n",
    "from medmnist.info import INFO\n",
    "from medmnist.dataset import MedMNIST"
   ]
  },
  {
   "cell_type": "markdown",
   "metadata": {
    "id": "AL7v3hY78i3n"
   },
   "source": [
    "## **Part A:** Implement a dataset suitable for contrastive learning.\n",
    "\n",
    "We will be using the [MedMNIST Pneumonia](https://medmnist.com/) dataset, which is a medical imaging inspired dataset but with the characteristics of MNIST. This allows efficient experimentation due to the small image size. The dataset contains real chest X-ray images but downsampled to 28 x 28 pixels, with binary labels indicating the presence of [Pneumonia](https://www.nhs.uk/conditions/pneumonia/) (which is an inflammation of the lungs)."
   ]
  },
  {
   "cell_type": "markdown",
   "metadata": {
    "id": "J2EAXIOzSOGJ"
   },
   "source": [
    "### **Task A-1:** Complete the dataset implementation.\n",
    "\n",
    "You are asked to implement a dataset class `SimCLRPneumoniaMNISTDataset` suitable for training a self-supervised model with a contrastive objective. For each sample, your dataset class should return two 'views' of the corresponding image, forming the positive pairs for contrastive learning. It is up to you to design suitable augmentation pipeline for generating these views. Please provide a short description in plain language of what your data augmentation pipeline is meant to do.\n",
    "\n",
    "To get you started, we have provided the skeleton of the dataset class in the cell below. Once you have implemented your dataset class, you are asked to run the provided visualisation code to visualise one batch of your training dataloader.\n",
    "\n",
    "*Note:* You can use the same data augmentation pipeline for training, validation, and testing."
   ]
  },
  {
   "cell_type": "code",
   "execution_count": 11,
   "metadata": {
    "ExecuteTime": {
     "end_time": "2024-02-19T20:40:53.433322Z",
     "start_time": "2024-02-19T20:40:53.422976Z"
    },
    "id": "_WpnXKjrm0bL"
   },
   "outputs": [],
   "source": [
    "class SimCLRPneumoniaMNISTDataset(MedMNIST):\n",
    "    def __init__(self, split = 'train'):\n",
    "        ''' Dataset class for PneumoniaMNIST.\n",
    "        The provided init function will automatically download the necessary\n",
    "        files at the first class initialistion.\n",
    "\n",
    "        :param split: 'train', 'val' or 'test', select subset\n",
    "\n",
    "        '''\n",
    "        self.flag = \"pneumoniamnist\"\n",
    "        self.size = 28\n",
    "        self.size_flag = \"\"\n",
    "        self.root = './data/coursework/'\n",
    "        self.info = INFO[self.flag]\n",
    "        self.download()\n",
    "\n",
    "        npz_file = np.load(os.path.join(self.root, \"pneumoniamnist.npz\"))\n",
    "\n",
    "        self.split = split\n",
    "\n",
    "        # Load all the images\n",
    "        assert self.split in ['train','val','test']\n",
    "\n",
    "        self.imgs = npz_file[f'{self.split}_images']\n",
    "        self.labels = npz_file[f'{self.split}_labels']\n",
    "\n",
    "        # TASK: Define here your data augmentation pipeline\n",
    "        # Add a short description in plain language.\n",
    "        \n",
    "        #########EXPLANATION:###############\n",
    "        # As part of the data augmentation pipeline, we apply a series of \n",
    "        #transformations to the dataset.For each image in the dataset, the \n",
    "        #augmentation pipeline will be applied twice to generate two\n",
    "        # distinct views of the same image to be used for contrastive learning. \n",
    "        #We decided to apply color jttering effect to the images with a low \n",
    "        #probability (i.e. 20%) which essentially adjusts the brightness and the \n",
    "        #contrast of the image. We also applied a rather mild random resized crop \n",
    "        #to introduce scale and aspect ratio variability into the dataset. \n",
    "        #Since we are working with medical images where the details are crucial,\n",
    "        # we are less \"aggressive\" in cropping so that most of the image content \n",
    "        #is preserved.We also apply random rotation within a small range \n",
    "        #(+/- 10 degrees)\n",
    "        # to encourage the model to become invariant to slight changes in\n",
    "        # orientation.\n",
    "        # We believe this transformation is particularly relevant to this dataset, \n",
    "        #since the orientation might vary slightly due to patient positioning or\n",
    "         #imaging set up at inference time, so by including this transformation \n",
    "        #in the data augmentation pipeline\n",
    "        # we hope that the model will become more robust in recognising features \n",
    "        #of pneumonia by rexognisine the features of pneumonia across various \n",
    "        #orientations.\n",
    "        # We didn't apply gaussian blurring/ random noise because we find that \n",
    "        #the images are already heavily downsampled and we didn't want\n",
    "        # to alter the signal further. Since we are working with grayscale \n",
    "        #images, we did not apply any colour-related transformations since they \n",
    "        #are not relevant.\n",
    "        # Finally, the last tranformation is applied such that the images are \n",
    "        #converted from PIL objects to tensors to be able to develop the deep learning model\n",
    "        # which operates on tensors.\n",
    "\n",
    "        \n",
    "        self.augmentation_pipeline = transforms.Compose([\n",
    "            transforms.ToPILImage(),\n",
    "            transforms.RandomApply(transforms=[transforms.ColorJitter(brightness=0.2, contrast=0.2)], p=0.1),\n",
    "            transforms.RandomResizedCrop(size=(28, 28), scale=(0.9, 0.9)),\n",
    "             # #relatively mild crop, preserving most of the integrity of the image \n",
    "            transforms.RandomRotation(degrees=(10)), \n",
    "            transforms.ToTensor()\n",
    "        ])\n",
    "\n",
    "\n",
    "    def __len__(self):\n",
    "        return self.imgs.shape[0]\n",
    "\n",
    "    def __getitem__(self, index):\n",
    "        # TASK: Fill in the blanks such that you return two tensors\n",
    "        # of shape [1, 28, 28], img_view1 and img_view2, representing two \n",
    "        #augmented view of the images.\n",
    "        img= self.imgs[index]\n",
    "        img_view1, img_view2= self.augmentation_pipeline(img), self.augmentation_pipeline(img)\n",
    "        return img_view1, img_view2\n"
   ]
  },
  {
   "cell_type": "markdown",
   "metadata": {
    "id": "LwqYUOutSOGK"
   },
   "source": [
    "We use a [LightningDataModule](https://lightning.ai/docs/pytorch/stable/data/datamodule.html) for handling your PneumoniaMNIST dataset. You do not need to make any modifications to the code below."
   ]
  },
  {
   "cell_type": "code",
   "execution_count": 12,
   "metadata": {
    "ExecuteTime": {
     "end_time": "2024-02-19T20:40:54.468882Z",
     "start_time": "2024-02-19T20:40:54.459083Z"
    },
    "id": "WQTVOXwESOGL"
   },
   "outputs": [],
   "source": [
    "class SimCLRPneumoniaMNISTDataModule(LightningDataModule):\n",
    "    def __init__(self, batch_size: int = 8):\n",
    "        super().__init__()\n",
    "        self.batch_size = batch_size\n",
    "        self.train_set = SimCLRPneumoniaMNISTDataset(split='train')\n",
    "        self.val_set = SimCLRPneumoniaMNISTDataset(split='val')\n",
    "        self.test_set = SimCLRPneumoniaMNISTDataset(split='test')\n",
    "\n",
    "    def train_dataloader(self):\n",
    "        return DataLoader(dataset=self.train_set, batch_size=self.batch_size, shuffle=True)\n",
    "\n",
    "    def val_dataloader(self):\n",
    "        return DataLoader(dataset=self.val_set, batch_size=self.batch_size, shuffle=False)\n",
    "\n",
    "    def test_dataloader(self):\n",
    "        return DataLoader(dataset=self.test_set, batch_size=self.batch_size, shuffle=False)"
   ]
  },
  {
   "cell_type": "markdown",
   "metadata": {
    "id": "TxDF8J8CSOGL"
   },
   "source": [
    "#### **Check** dataset implementation.\n",
    "\n",
    "Run the below cell to visualise a batch of your training dataloader."
   ]
  },
  {
   "cell_type": "code",
   "execution_count": 15,
   "metadata": {
    "ExecuteTime": {
     "end_time": "2024-02-19T20:40:56.006380Z",
     "start_time": "2024-02-19T20:40:55.440382Z"
    },
    "id": "PbV-xhDitmrR"
   },
   "outputs": [
    {
     "name": "stdout",
     "output_type": "stream",
     "text": [
      "Using downloaded and verified file: ./data/coursework/pneumoniamnist.npz\n",
      "Using downloaded and verified file: ./data/coursework/pneumoniamnist.npz\n",
      "Using downloaded and verified file: ./data/coursework/pneumoniamnist.npz\n"
     ]
    },
    {
     "data": {
      "image/png": "[encoded data removed]",
      "text/plain": [
       "<Figure size 1200x400 with 16 Axes>"
      ]
     },
     "metadata": {},
     "output_type": "display_data"
    }
   ],
   "source": [
    "# DO NOT MODIFY THIS CELL! IT IS FOR CHECKING THE IMPLEMENTATION ONLY.\n",
    "\n",
    "# Initialise data module\n",
    "datamodule = SimCLRPneumoniaMNISTDataModule()\n",
    "# Get train dataloader\n",
    "train_dataloader = datamodule.train_dataloader()\n",
    "# Get first batch\n",
    "batch = next(iter(train_dataloader))\n",
    "# Visualise the images\n",
    "view1, view2 = batch\n",
    "f, ax = plt.subplots(2, 8, figsize=(12,4))\n",
    "for i in range(8):\n",
    "  ax[0,i].imshow(view1[i, 0], cmap='gray')\n",
    "  ax[1,i].imshow(view2[i, 0], cmap='gray')\n",
    "  ax[0,i].set_title('view 1')\n",
    "  ax[1,i].set_title('view 2')\n",
    "  ax[0, i].axis(\"off\")\n",
    "  ax[1, i].axis(\"off\")"
   ]
  },
  {
   "cell_type": "markdown",
   "metadata": {
    "id": "z9dmJ2CV8i3o"
   },
   "source": [
    "## **Part B:** Implement the SimCLR loss and training step.\n",
    "\n",
    "In this part, we ask you to:\n",
    "1. Implement the SimCLR loss function, as per the equation in the lecture notes (and the [original paper](https://arxiv.org/abs/2002.05709)).\n",
    "2. Once you have implemented the loss, implement the training step function in the provided LightningModule."
   ]
  },
  {
   "cell_type": "markdown",
   "metadata": {
    "id": "sg3W4Mh8anKn"
   },
   "source": [
    "### **Task B-1:** SimCLR loss function.\n",
    "\n",
    "For the implementation of the SimCLR loss, you should follow the 'recipe' from the lecture slides. We provide a code skeleton to get you started. Fill in all the blanks.\n",
    "\n",
    "*Hint:* In PyTorch, to compute scalar products (also called dot products) between many elements efficiently, note that for two batches of $d$-dimensional feature vectors $v1$ and $v2$ of size $[N, d]$ (with $N$ being the batch size) computing the matrix multiplication `torch.mm(v1, v2.t())` returns a matrix $S$ of size $[N, N]$ where each element $S[i, j]$ is the scalar product of $v1_i$ and $v2_j$."
   ]
  },
  {
   "cell_type": "code",
   "execution_count": 6,
   "metadata": {
    "ExecuteTime": {
     "end_time": "2024-02-19T20:40:59.758357Z",
     "start_time": "2024-02-19T20:40:59.745362Z"
    },
    "id": "PjS5kMqsFPZg"
   },
   "outputs": [],
   "source": [
    "def simclr_loss(embedding_view1, embedding_view2, tau = 1.0):\n",
    "  '''\n",
    "  This funtion implements the SimCLR loss function as described in the original paper.\n",
    "  See lecture notes for formulas.\n",
    "\n",
    "  It takes as input the embeddings from both views and returns the loss value for that batch.\n",
    "  Args:\n",
    "    embedding_view1: torch tensor of shape [batch_size, embedding_dimension]\n",
    "    embedding_view2: torch tensor of shape [batch_size, embedding_dimension]\n",
    "  Returns:\n",
    "    loss: torch.tensor of shape 1\n",
    "  '''\n",
    "\n",
    "  device = embedding_view1.device\n",
    "  # Step 1: normalise the embeddings\n",
    "  similarity = torch.nn.CosineSimilarity(dim=1)\n",
    "  out = similarity(embedding_view1, embedding_view2)\n",
    "  embedding_view1 = F.normalize(embedding_view1, dim=1)\n",
    "  embedding_view2 = F.normalize(embedding_view2, dim=1)\n",
    "\n",
    "  # Step 2: gather all embeddings into one big vector of size [2*N , feature_dim]\n",
    "  z_all_views = torch.cat((embedding_view1, embedding_view2), dim=0)\n",
    "\n",
    "  # Step 3: compute all possible similarities, should be a matrix of size [2 * N, 2 * N]\n",
    "  # all_similarities[i,j] will be the similarity between z_all_views[i] and z_all_views[j].\n",
    "  # Use the hint.\n",
    "  all_similarities = torch.mm(z_all_views, z_all_views.t())\n",
    "  all_similarities = torch.exp(all_similarities / tau)\n",
    "  \n",
    "  # Step 4: Here we want to return a mask of size[2 * N, 2* N] for which mask[i,j] = 1 if\n",
    "  # z_all_views[i] and z_all_views[j] form a positive pair.\n",
    "  # There should be exactely 2 * N non-zeros elements in this matrix.\n",
    "  mask = torch.zeros(2 * embedding_view1.size(0), 2 * embedding_view1.size(0), dtype=torch.bool, device=device)\n",
    "  for i in range(embedding_view1.size(0)):\n",
    "    mask[i, i + embedding_view1.size(0)] = True\n",
    "    mask[i + embedding_view1.size(0), i] = True\n",
    "\n",
    "  # Step 5: self-mask. For computing the denominator term in the loss function,\n",
    "  # we need to sum over all possible similarities except the self-similarity.\n",
    "  # Create a mask of shape [2*N, 2*N] that is 1 for all valid pairs and 0 for all self-pairs (i = j).\n",
    "  self_mask = ~torch.eye(2 * embedding_view1.size(0), dtype=torch.bool, device=device)\n",
    "\n",
    "  # Step 6: Computing all numerators for the loss function.\n",
    "  # Should be vector of size [2 * N],\n",
    "  # where element is exp(sim(i, j) / t) for each positive pair (i, j).\n",
    "  # Re-use the computed quantities above.\n",
    "  numerators = all_similarities[mask]\n",
    "\n",
    "  # Step 7: Computing all denominators for the loss function.\n",
    "  # Should be a vector of size [2 * N].\n",
    "  # Where each element should be the sum of exp(sim(i,k)/tau) for all k != i.\n",
    "  \n",
    "  denominators = all_similarities.masked_fill(~self_mask, 0)\n",
    "  denominators = denominators.sum(dim=1)\n",
    "\n",
    "  # Step 8: Return the final loss values, using the previously computing numerators and denominators.\n",
    "  return -torch.log(numerators / denominators).mean()"
   ]
  },
  {
   "cell_type": "markdown",
   "metadata": {
    "id": "wHkOZiucO3-D"
   },
   "source": [
    "#### **Check** SimCLR loss function.\n",
    "\n",
    "To check your implementation, please run the following tests. Note that we will also use other tests on different inputs to test your code."
   ]
  },
  {
   "cell_type": "code",
   "execution_count": 7,
   "metadata": {
    "ExecuteTime": {
     "end_time": "2024-02-19T20:41:00.477613Z",
     "start_time": "2024-02-19T20:41:00.465391Z"
    },
    "id": "orohu5xQO3KA"
   },
   "outputs": [
    {
     "name": "stderr",
     "output_type": "stream",
     "text": [
      "Seed set to 33\n"
     ]
    },
    {
     "name": "stdout",
     "output_type": "stream",
     "text": [
      "Expected loss: 1.7517999410629272, Computed loss: 1.751814365386963\n",
      "Expected loss: 1.6375999450683594, Computed loss: 1.6376436948776245\n",
      "Expected loss: 4.193999767303467, Computed loss: 4.194351673126221\n",
      "Expected loss: 4.1753997802734375, Computed loss: 4.17537260055542\n",
      "Passed all tests successfully !\n"
     ]
    }
   ],
   "source": [
    "# DO NOT MODIFY THIS CELL! IT IS FOR CHECKING THE IMPLEMENTATION ONLY.\n",
    "\n",
    "seed_everything(33)\n",
    "\n",
    "expected_results = [torch.tensor(1.7518), torch.tensor(1.6376), torch.tensor(4.194),  torch.tensor(4.1754)]\n",
    "for i, (N, feature_dim) in enumerate(zip([3, 3, 33, 33], [5, 125, 5, 125])):\n",
    "  embedding_view1 = torch.rand((N, feature_dim))\n",
    "  embedding_view2 = torch.rand((N, feature_dim))\n",
    "  loss = simclr_loss(embedding_view1.clone(), embedding_view2.clone(), tau=0.5)\n",
    "  print(f\"Expected loss: {expected_results[i]}, Computed loss: {loss}\")\n",
    "  assert torch.isclose(loss, expected_results[i], rtol=1e-3)\n",
    "print(\"Passed all tests successfully !\")"
   ]
  },
  {
   "cell_type": "markdown",
   "metadata": {
    "id": "ir0Myj1n-q_G"
   },
   "source": [
    "### **Task B-2:** SimCLR training step.\n",
    "\n",
    "In this next task you are asked to complete the blanks in the provided [LightningModule](https://lightning.ai/docs/pytorch/stable/common/lightning_module.html).\n",
    "\n",
    "We provide the implementation of an image encoder (the CNN backbone that will act as feature extractor). No changes are needed for this part."
   ]
  },
  {
   "cell_type": "code",
   "execution_count": 8,
   "metadata": {
    "ExecuteTime": {
     "end_time": "2024-02-19T20:41:02.373234Z",
     "start_time": "2024-02-19T20:41:02.357270Z"
    },
    "id": "u77dpCujSOGO"
   },
   "outputs": [],
   "source": [
    "class ImageEncoder(torch.nn.Module):\n",
    "    def __init__(self) -> None:\n",
    "        super().__init__()\n",
    "        self.net = models.resnet50(weights=None)\n",
    "        del self.net.fc\n",
    "        self.net.conv1 = torch.nn.Conv2d(1, 64, kernel_size=7, stride=2, padding=3, bias=False)\n",
    "\n",
    "    def forward(self, x: torch.Tensor) -> torch.Tensor:\n",
    "        x = self.net.conv1(x)\n",
    "        x = self.net.bn1(x)\n",
    "        x = self.net.relu(x)\n",
    "        x0 = self.net.maxpool(x)\n",
    "        x1 = self.net.layer1(x0)\n",
    "        x2 = self.net.layer2(x1)\n",
    "        x3 = self.net.layer3(x2)\n",
    "        x4 = self.net.layer4(x3)\n",
    "        x4 = self.net.avgpool(x4)\n",
    "        x4 = torch.flatten(x4, 1)\n",
    "        return x4"
   ]
  },
  {
   "cell_type": "markdown",
   "metadata": {
    "id": "6Ih6SONfSOGO"
   },
   "source": [
    "Next, you will need to complete the implementation of the SimCLR model. In order to make the training step work correctly, you will need to implement the `process_batch` function."
   ]
  },
  {
   "cell_type": "code",
   "execution_count": 9,
   "metadata": {
    "ExecuteTime": {
     "end_time": "2024-02-19T20:41:10.580269Z",
     "start_time": "2024-02-19T20:41:10.566668Z"
    },
    "id": "7sizIiNm8i3o"
   },
   "outputs": [],
   "source": [
    "class SimCLRModel(LightningModule):\n",
    "    def __init__(self, learning_rate: float = 0.001):\n",
    "        super().__init__()\n",
    "        self.learning_rate = learning_rate\n",
    "\n",
    "        self.encoder = ImageEncoder()\n",
    "\n",
    "        self.projector = torch.nn.Sequential(\n",
    "            torch.nn.Linear(2048, 1024),\n",
    "            torch.nn.ReLU(),\n",
    "            torch.nn.Linear(1024, 128),\n",
    "        )\n",
    "\n",
    "    def configure_optimizers(self):\n",
    "        optimizer = torch.optim.Adam(self.parameters(), lr=self.learning_rate)\n",
    "        return optimizer\n",
    "\n",
    "    def process_batch(self, batch):\n",
    "        # TASK: Implement the process_batch function\n",
    "        \n",
    "        embedding_view1 = self.encoder(batch[0])\n",
    "        embedding_view2 = self.encoder(batch[1])\n",
    "        embedding_view1 = self.projector(embedding_view1)\n",
    "        embedding_view2 = self.projector(embedding_view2)\n",
    "        \n",
    "        loss = simclr_loss(embedding_view1, embedding_view2)\n",
    "        return loss\n",
    "\n",
    "    def training_step(self, batch, batch_idx):\n",
    "        loss = self.process_batch(batch)\n",
    "        self.log('train_loss', loss, prog_bar=True)\n",
    "        if batch_idx == 0:\n",
    "            grid = torchvision.utils.make_grid(torch.cat((batch[0][0:4, ...], batch[1][0:4, ...]), dim=0), nrow=4, normalize=True)\n",
    "            self.logger.experiment.add_image('train_images', grid, self.global_step)\n",
    "        return loss\n",
    "\n",
    "    def validation_step(self, batch, batch_idx):\n",
    "        loss = self.process_batch(batch)\n",
    "        self.log('val_loss', loss, prog_bar=True)"
   ]
  },
  {
   "cell_type": "markdown",
   "metadata": {
    "id": "tgSl_FnT_H0B"
   },
   "source": [
    "#### **Check** SimCLR training step.\n",
    "\n",
    "Here you can test that your code runs fine by training the model for 5 epochs using the cell below.\n",
    "\n",
    "Report the training and validation loss at the end of 5 epochs."
   ]
  },
  {
   "cell_type": "code",
   "execution_count": 10,
   "metadata": {
    "ExecuteTime": {
     "end_time": "2024-02-17T17:19:39.818852Z",
     "start_time": "2024-02-17T17:18:12.946752Z"
    },
    "id": "sXksBOrR8i3p"
   },
   "outputs": [
    {
     "name": "stderr",
     "output_type": "stream",
     "text": [
      "Seed set to 33\n"
     ]
    },
    {
     "name": "stdout",
     "output_type": "stream",
     "text": [
      "Using downloaded and verified file: ./data/coursework/pneumoniamnist.npz\n",
      "Using downloaded and verified file: ./data/coursework/pneumoniamnist.npz\n",
      "Using downloaded and verified file: ./data/coursework/pneumoniamnist.npz\n"
     ]
    },
    {
     "name": "stderr",
     "output_type": "stream",
     "text": [
      "GPU available: False, used: False\n",
      "TPU available: False, using: 0 TPU cores\n",
      "IPU available: False, using: 0 IPUs\n",
      "HPU available: False, using: 0 HPUs\n",
      "\n",
      "  | Name      | Type         | Params\n",
      "-------------------------------------------\n",
      "0 | encoder   | ImageEncoder | 23.5 M\n",
      "1 | projector | Sequential   | 2.2 M \n",
      "-------------------------------------------\n",
      "25.7 M    Trainable params\n",
      "0         Non-trainable params\n",
      "25.7 M    Total params\n",
      "102.925   Total estimated model params size (MB)\n"
     ]
    },
    {
     "name": "stdout",
     "output_type": "stream",
     "text": [
      "Sanity Checking: |          | 0/? [00:00<?, ?it/s]"
     ]
    },
    {
     "name": "stderr",
     "output_type": "stream",
     "text": [
      "/Users/kively/VSCodeProjects/Imperial_Projects/Machine_Learning_Imaging/.venv/lib/python3.12/site-packages/pytorch_lightning/trainer/connectors/data_connector.py:441: The 'val_dataloader' does not have many workers which may be a bottleneck. Consider increasing the value of the `num_workers` argument` to `num_workers=15` in the `DataLoader` to improve performance.\n"
     ]
    },
    {
     "name": "stdout",
     "output_type": "stream",
     "text": [
      "                                                                           "
     ]
    },
    {
     "name": "stderr",
     "output_type": "stream",
     "text": [
      "/Users/kively/VSCodeProjects/Imperial_Projects/Machine_Learning_Imaging/.venv/lib/python3.12/site-packages/pytorch_lightning/trainer/connectors/data_connector.py:441: The 'train_dataloader' does not have many workers which may be a bottleneck. Consider increasing the value of the `num_workers` argument` to `num_workers=15` in the `DataLoader` to improve performance.\n"
     ]
    },
    {
     "name": "stdout",
     "output_type": "stream",
     "text": [
      "Epoch 4: 100%|██████████| 148/148 [02:53<00:00,  0.85it/s, v_num=1, train_loss=1.420, val_loss=3.390]"
     ]
    },
    {
     "name": "stderr",
     "output_type": "stream",
     "text": [
      "`Trainer.fit` stopped: `max_epochs=5` reached.\n"
     ]
    },
    {
     "name": "stdout",
     "output_type": "stream",
     "text": [
      "Epoch 4: 100%|██████████| 148/148 [02:53<00:00,  0.85it/s, v_num=1, train_loss=1.420, val_loss=3.390]\n"
     ]
    }
   ],
   "source": [
    "# DO NOT MODIFY THIS CELL! IT IS FOR CHECKING THE IMPLEMENTATION ONLY.\n",
    "\n",
    "seed_everything(33, workers=True)\n",
    "\n",
    "data = SimCLRPneumoniaMNISTDataModule(batch_size=32)\n",
    "\n",
    "model = SimCLRModel()\n",
    "\n",
    "trainer = Trainer(\n",
    "    max_epochs=5,\n",
    "    accelerator='auto',\n",
    "    devices=1,\n",
    "    logger=TensorBoardLogger(save_dir='./lightning_logs/coursework/', name='simclr'),\n",
    "    callbacks=[ModelCheckpoint(monitor='val_loss', mode='min'), TQDMProgressBar(refresh_rate=10)],\n",
    ")\n",
    "trainer.fit(model=model, datamodule=data)"
   ]
  },
  {
   "cell_type": "markdown",
   "metadata": {
    "id": "QRUmT50C8i3p"
   },
   "source": [
    "## **Part C:** Linear probing and model finetuning.\n",
    "\n",
    "In this part, you are given two different image encoders that were pre-trained with different datasets and training strategies. The objective for this task is to assess the performance of these two encoders in a downstream classification task. This this end, you are asked to implement evaluation routines seen in the lecture: linear probing and model finetuning. The downstream task is the prediction of Pneumonia in the (small) chest X-ray images from the PneumoniaMNIST dataset.\n",
    "\n",
    "This part can be broken down into the following tasks:\n",
    "1. Adapt your PneunomiaMNIST dataset for the image classification task.\n",
    "2. Implement a classification model with a linear layer attached to a pre-trained image encoder.\n",
    "3. For both pre-trained encoders:\n",
    "    - a) Train the classifier on top of the frozen encoder (linear probing)\n",
    "    - b) Finetune the entire model (including the encoder).\n",
    "4. Evaluate all models on the test set, and provide a brief summary (no more than 300 words) with an analysis of your findings."
   ]
  },
  {
   "cell_type": "markdown",
   "metadata": {
    "id": "S8eiyVBc_429"
   },
   "source": [
    "### **Task C-1:** Adapt your PneunomiaMNIST dataset for the image classification task.\n",
    "\n",
    "We can base our implementation largely on the `SimCLRPneumoniaMNISTDataset` and adapt it to make it suitable for image classification. Think about a suitable data augmentation pipeline. Check previous tutorials for inspiration."
   ]
  },
  {
   "cell_type": "code",
   "execution_count": 11,
   "metadata": {
    "ExecuteTime": {
     "end_time": "2024-02-19T20:41:26.647819Z",
     "start_time": "2024-02-19T20:41:26.628052Z"
    },
    "id": "_5WXLUOtBpw_"
   },
   "outputs": [],
   "source": [
    "class PneumoniaMNISTDataset(MedMNIST):\n",
    "    def __init__(self, split = 'train', augmentation: bool = False):\n",
    "        ''' Dataset class for Pneumonia MNST.\n",
    "        The provided init function will automatically download the necessary\n",
    "        files at the first class initialistion.\n",
    "\n",
    "        :param split: 'train', 'val' or 'test', select subset\n",
    "\n",
    "        '''\n",
    "        self.flag = \"pneumoniamnist\"\n",
    "        self.size = 28\n",
    "        self.size_flag = \"\"\n",
    "        self.root = './data/coursework/'\n",
    "        self.info = INFO[self.flag]\n",
    "        self.download()\n",
    "\n",
    "        npz_file = np.load(os.path.join(self.root, \"pneumoniamnist.npz\"))\n",
    "\n",
    "        self.split = split\n",
    "\n",
    "        # Load all the images\n",
    "        assert self.split in ['train','val','test']\n",
    "\n",
    "        self.imgs = npz_file[f'{self.split}_images']\n",
    "        self.labels = npz_file[f'{self.split}_labels']\n",
    "\n",
    "        self.do_augment = augmentation\n",
    "\n",
    "        # TASK: Define here your data augmentation pipeline suitable for classification.\n",
    "        # Check previous tutorials for inspiration.\n",
    "\n",
    "        ########EXPLANATION:##########\n",
    "        #As part of the photometric data augmentation transformations, we apply \n",
    "        #color jitter to adjust the brightness and contrast\n",
    "        #with probablity 50%, hoping that the model will become more robust to \n",
    "        #lighting variations.\n",
    "        #As part of the geometric data augmentation, we introduce small rotations \n",
    "        #and slight scaling. These tranformations are useful\n",
    "        #for simulating variations in patient positioning and/or the distance \n",
    "        #between the X-ray source and the patient which might help\n",
    "        #the model at test time. Nearest interpolation is applied to prevent any\n",
    "        # unwanted smoothness in the images, as we ned to maintain\n",
    "        #fine details in medical images.\n",
    "    \n",
    "        \n",
    "        \n",
    "        # photometric data augmentation\n",
    "        self.photometric_augment = transforms.Compose([\n",
    "            transforms.RandomApply(transforms=[transforms.ColorJitter(brightness=0.2, contrast=0.2)], p=0.5),\n",
    "        ])\n",
    "\n",
    "        # geometric data augmentation\n",
    "        self.geometric_augment = transforms.Compose([\n",
    "            transforms.RandomApply(transforms=[transforms.RandomAffine(degrees=5, scale=(0.9, 1.1), interpolation=transforms.InterpolationMode.NEAREST)], p=0.5),\n",
    "        ])\n",
    "\n",
    "    def __len__(self):\n",
    "        return self.imgs.shape[0]\n",
    "\n",
    "    def __getitem__(self, index):\n",
    "        # TASK: Implement the __getitem__ function to return the image and its class label.\n",
    "        image = torch.from_numpy(self.imgs[index]).unsqueeze(0)\n",
    "        image = image.type(torch.FloatTensor)\n",
    "        # label = torch.from_numpy(self.labels[index])\n",
    "        label = self.labels[index]\n",
    "        \n",
    "        if self.do_augment:\n",
    "            image = self.photometric_augment(image.type(torch.ByteTensor)).type(torch.FloatTensor)\n",
    "            image = self.geometric_augment(image)\n",
    "                        \n",
    "        # normalize image intensities to [0,1] to stabilise training\n",
    "        image /= 255\n",
    "            \n",
    "        return image, label"
   ]
  },
  {
   "cell_type": "markdown",
   "metadata": {
    "id": "pVd7l4PiSOGQ"
   },
   "source": [
    "Again, we use a [LightningDataModule](https://lightning.ai/docs/pytorch/stable/data/datamodule.html) for handling your PneumoniaMNIST dataset. No changes needed for this part."
   ]
  },
  {
   "cell_type": "code",
   "execution_count": 12,
   "metadata": {
    "ExecuteTime": {
     "end_time": "2024-02-19T20:41:33.146977Z",
     "start_time": "2024-02-19T20:41:33.129437Z"
    },
    "id": "i_5yidccSOGQ"
   },
   "outputs": [],
   "source": [
    "class PneumoniaMNISTDataModule(LightningDataModule):\n",
    "    def __init__(self, batch_size: int = 32):\n",
    "        super().__init__()\n",
    "        self.batch_size = batch_size\n",
    "        self.train_set = PneumoniaMNISTDataset(split='train', augmentation=True)\n",
    "        self.val_set = PneumoniaMNISTDataset(split='val', augmentation=False)\n",
    "        self.test_set = PneumoniaMNISTDataset(split='test', augmentation=False)\n",
    "\n",
    "    def train_dataloader(self):\n",
    "        return DataLoader(dataset=self.train_set, batch_size=self.batch_size, shuffle=True)\n",
    "\n",
    "    def val_dataloader(self):\n",
    "        return DataLoader(dataset=self.val_set, batch_size=self.batch_size, shuffle=False)\n",
    "\n",
    "    def test_dataloader(self):\n",
    "        return DataLoader(dataset=self.test_set, batch_size=self.batch_size, shuffle=False)"
   ]
  },
  {
   "cell_type": "markdown",
   "metadata": {},
   "source": [
    "#### **Check** dataset implementation.\n",
    "\n",
    "Run the below cell to visualise a batch of your training dataloader."
   ]
  },
  {
   "cell_type": "code",
   "execution_count": 13,
   "metadata": {
    "ExecuteTime": {
     "end_time": "2024-02-19T20:41:35.326910Z",
     "start_time": "2024-02-19T20:41:35.130822Z"
    }
   },
   "outputs": [
    {
     "name": "stdout",
     "output_type": "stream",
     "text": [
      "Using downloaded and verified file: ./data/coursework/pneumoniamnist.npz\n",
      "Using downloaded and verified file: ./data/coursework/pneumoniamnist.npz\n",
      "Using downloaded and verified file: ./data/coursework/pneumoniamnist.npz\n"
     ]
    },
    {
     "data": {
      "image/png": "[encoded data removed]",
      "text/plain": [
       "<Figure size 1200x400 with 8 Axes>"
      ]
     },
     "metadata": {},
     "output_type": "display_data"
    }
   ],
   "source": [
    "# DO NOT MODIFY THIS CELL! IT IS FOR CHECKING THE IMPLEMENTATION ONLY.\n",
    "\n",
    "# Initialise data module\n",
    "datamodule = PneumoniaMNISTDataModule()\n",
    "# Get train dataloader\n",
    "train_dataloader = datamodule.train_dataloader()\n",
    "# Get first batch\n",
    "batch = next(iter(train_dataloader))\n",
    "# Visualise the images\n",
    "images, labels = batch\n",
    "f, ax = plt.subplots(1, 8, figsize=(12,4))\n",
    "for i in range(8):\n",
    "  ax[i].imshow(images[i, 0], cmap='gray')\n",
    "  ax[i].set_title('label: ' + str(labels[i].item()))\n",
    "  ax[i].axis(\"off\")"
   ]
  },
  {
   "cell_type": "markdown",
   "metadata": {
    "id": "UU2tN86DChgL"
   },
   "source": [
    "### **Task C-2:** Implement a classification model with a linear layer attached to a pre-trained image encoder.\n",
    "\n",
    "We first download the weights of the two pre-trained image encoders. One of them has been trained with the self-supervised SimCLR objective on a large publicly available chest X-ray dataset (different from PneunomiaMNIST). The other encoder is a standard ImageNet backbone that has been trained with a supervised classification objective on the ImageNet dataset."
   ]
  },
  {
   "cell_type": "code",
   "execution_count": 14,
   "metadata": {
    "ExecuteTime": {
     "end_time": "2024-02-19T20:41:40.530671Z",
     "start_time": "2024-02-19T20:41:40.517590Z"
    },
    "id": "-gX9NTQqSOGR"
   },
   "outputs": [],
   "source": [
    "# ! wget https://www.doc.ic.ac.uk/~bglocker/teaching/mli/coursework.zip\n",
    "# ! unzip coursework.zip"
   ]
  },
  {
   "cell_type": "markdown",
   "metadata": {
    "id": "9KCcuk9ISOGR"
   },
   "source": [
    "We provide the function for loading the encoders. No changes needed here."
   ]
  },
  {
   "cell_type": "code",
   "execution_count": 15,
   "metadata": {
    "ExecuteTime": {
     "end_time": "2024-02-19T20:41:41.491265Z",
     "start_time": "2024-02-19T20:41:41.469301Z"
    },
    "id": "0iHkCTqLETVr"
   },
   "outputs": [],
   "source": [
    "def load_encoder_from_checkpoint(checkpoint_path):\n",
    "  ckpt = torch.load(checkpoint_path, map_location='cpu')\n",
    "  simclr_module = SimCLRModel()\n",
    "  print(simclr_module.load_state_dict(state_dict=ckpt))\n",
    "  return simclr_module.encoder.eval()\n",
    "\n",
    "imagenet_model = './data/coursework/model_imagenet.ckpt'\n",
    "chestxray_model = './data/coursework/model_chestxray.ckpt'"
   ]
  },
  {
   "cell_type": "markdown",
   "metadata": {
    "id": "otccmykgSOGS"
   },
   "source": [
    "Now, implement a classification model as a LightningModule for image classification using a pre-trained image encoder.\n",
    "\n",
    "The model should have a flag in the init function `freeze_encoder` that if set to true freezes all the weights in the encoder (used for linear probing), and if set to false all weights are trainable (used for model finetuning).\n",
    "\n",
    "*Hint:* Check out previous tutorials for inspiration on how to implement a classification model as LightningModule. For the coursework, we recommend using the Area Under the Receiver Operating Characteristic Curve (ROC-AUC) performance metric (instead of accuracy). ROC-AUC is measure of the overall discriminative power of a classification model. You can use the readily available implementation in [torchmetrics](https://lightning.ai/docs/torchmetrics/stable/classification/auroc.html#functional-interface). You should log the ROC-AUC similar to how we logged accuracy in previous tutorials."
   ]
  },
  {
   "cell_type": "code",
   "execution_count": 18,
   "metadata": {
    "ExecuteTime": {
     "end_time": "2024-02-19T20:44:46.217849Z",
     "start_time": "2024-02-19T20:44:46.205163Z"
    },
    "id": "h_lHEp69DVqt"
   },
   "outputs": [],
   "source": [
    "# TASK: Implement the ImageClassifier class\n",
    "# Check previous tutorials for insipration how to implement an `ImageClassifier`\n",
    "\n",
    "class ImageClassifier(LightningModule):\n",
    "    def __init__(self, pretrained_encoder: torch.nn.Module, freeze_encoder: bool = True, output_dim: int = 2, learning_rate: float = 0.001):\n",
    "        super().__init__()\n",
    "        self.learning_rate = learning_rate\n",
    "        self.output_dim = output_dim\n",
    "        self.freeze_encoder = freeze_encoder\n",
    "        \n",
    "        self.encoder = pretrained_encoder\n",
    "        if self.freeze_encoder:\n",
    "            for param in self.encoder.parameters():\n",
    "                param.requires_grad = False\n",
    "        self.classifier = torch.nn.Linear(2048, output_dim)\n",
    "        \n",
    "    def configure_optimizers(self):\n",
    "        optimizer = torch.optim.Adam(self.parameters(), lr=self.learning_rate)\n",
    "        return optimizer\n",
    "    \n",
    "    def forward(self, x):\n",
    "        x = self.encoder(x)\n",
    "        x = self.classifier(x)\n",
    "        return x\n",
    "    \n",
    "    def process_batch(self, batch):\n",
    "        x, y = batch\n",
    "        logits = self(x)\n",
    "        loss = F.cross_entropy(logits, y.squeeze())\n",
    "        probs = torch.softmax(logits, dim=1)\n",
    "        aur = auroc(probs, y.squeeze(), task=\"multiclass\", num_classes=2)\n",
    "        return loss, aur\n",
    "    \n",
    "    def training_step(self, batch, batch_idx):\n",
    "        loss, aur = self.process_batch(batch)\n",
    "        self.log('train_loss', loss, prog_bar=True)\n",
    "        self.log('train_auroc', aur, prog_bar=True)\n",
    "        return loss\n",
    "    \n",
    "    def validation_step(self, batch, batch_idx):\n",
    "        loss, aur = self.process_batch(batch)\n",
    "        self.log('val_loss', loss, prog_bar=True)\n",
    "        self.log('val_auroc', aur, prog_bar=True)\n",
    "    \n",
    "    def test_step(self, batch, batch_idx):\n",
    "        loss, aur = self.process_batch(batch)\n",
    "        self.log('test_loss', loss, prog_bar=True)\n",
    "        self.log('test_auroc', aur, prog_bar=True)"
   ]
  },
  {
   "cell_type": "markdown",
   "metadata": {
    "id": "CTN7khmEFVba"
   },
   "source": [
    "### **Task C-3a:** Implement training and testing for linear probing.\n",
    "\n",
    "Train two classification models using linear probing, one for each of the two provided image encoders. Evaluate on both the validation and test sets.\n",
    "\n",
    "*Note:* Training for 25 epochs should be sufficient."
   ]
  },
  {
   "cell_type": "code",
   "execution_count": 19,
   "metadata": {
    "ExecuteTime": {
     "end_time": "2024-02-19T20:49:07.254334Z",
     "start_time": "2024-02-19T20:44:46.988424Z"
    },
    "id": "vvjW7rGZFU1m"
   },
   "outputs": [
    {
     "name": "stderr",
     "output_type": "stream",
     "text": [
      "Seed set to 33\n"
     ]
    },
    {
     "name": "stdout",
     "output_type": "stream",
     "text": [
      "Using downloaded and verified file: ./data/coursework/pneumoniamnist.npz\n",
      "Using downloaded and verified file: ./data/coursework/pneumoniamnist.npz\n",
      "Using downloaded and verified file: ./data/coursework/pneumoniamnist.npz\n"
     ]
    },
    {
     "name": "stderr",
     "output_type": "stream",
     "text": [
      "GPU available: True (mps), used: True\n",
      "TPU available: False, using: 0 TPU cores\n",
      "IPU available: False, using: 0 IPUs\n",
      "HPU available: False, using: 0 HPUs\n",
      "\n",
      "  | Name       | Type         | Params\n",
      "--------------------------------------------\n",
      "0 | encoder    | ImageEncoder | 23.5 M\n",
      "1 | classifier | Linear       | 4.1 K \n",
      "--------------------------------------------\n",
      "4.1 K     Trainable params\n",
      "23.5 M    Non-trainable params\n",
      "23.5 M    Total params\n",
      "94.023    Total estimated model params size (MB)\n"
     ]
    },
    {
     "name": "stdout",
     "output_type": "stream",
     "text": [
      "<All keys matched successfully>\n"
     ]
    },
    {
     "data": {
      "application/vnd.jupyter.widget-view+json": {
       "model_id": "a9da7f0fd2394220a51e24407330fd15",
       "version_major": 2,
       "version_minor": 0
      },
      "text/plain": [
       "Sanity Checking: |          | 0/? [00:00<?, ?it/s]"
      ]
     },
     "metadata": {},
     "output_type": "display_data"
    },
    {
     "data": {
      "application/vnd.jupyter.widget-view+json": {
       "model_id": "27eecbc68405497dad7a6b233b3e9e50",
       "version_major": 2,
       "version_minor": 0
      },
      "text/plain": [
       "Training: |          | 0/? [00:00<?, ?it/s]"
      ]
     },
     "metadata": {},
     "output_type": "display_data"
    },
    {
     "data": {
      "application/vnd.jupyter.widget-view+json": {
       "model_id": "072f4e3c8c974e439d7e86364b6d0521",
       "version_major": 2,
       "version_minor": 0
      },
      "text/plain": [
       "Validation: |          | 0/? [00:00<?, ?it/s]"
      ]
     },
     "metadata": {},
     "output_type": "display_data"
    },
    {
     "data": {
      "application/vnd.jupyter.widget-view+json": {
       "model_id": "5fdee0982ed9410287d193b1763b0022",
       "version_major": 2,
       "version_minor": 0
      },
      "text/plain": [
       "Validation: |          | 0/? [00:00<?, ?it/s]"
      ]
     },
     "metadata": {},
     "output_type": "display_data"
    },
    {
     "data": {
      "application/vnd.jupyter.widget-view+json": {
       "model_id": "f54fb149e6794e5ca90900127ac8aae9",
       "version_major": 2,
       "version_minor": 0
      },
      "text/plain": [
       "Validation: |          | 0/? [00:00<?, ?it/s]"
      ]
     },
     "metadata": {},
     "output_type": "display_data"
    },
    {
     "data": {
      "application/vnd.jupyter.widget-view+json": {
       "model_id": "1c6f1bca8eb5484f8d9734e5d2b79ed8",
       "version_major": 2,
       "version_minor": 0
      },
      "text/plain": [
       "Validation: |          | 0/? [00:00<?, ?it/s]"
      ]
     },
     "metadata": {},
     "output_type": "display_data"
    },
    {
     "data": {
      "application/vnd.jupyter.widget-view+json": {
       "model_id": "aedf39a6c3c349308aea2d1143837294",
       "version_major": 2,
       "version_minor": 0
      },
      "text/plain": [
       "Validation: |          | 0/? [00:00<?, ?it/s]"
      ]
     },
     "metadata": {},
     "output_type": "display_data"
    },
    {
     "data": {
      "application/vnd.jupyter.widget-view+json": {
       "model_id": "d1922bea77f2455c9f7b47770bbfc696",
       "version_major": 2,
       "version_minor": 0
      },
      "text/plain": [
       "Validation: |          | 0/? [00:00<?, ?it/s]"
      ]
     },
     "metadata": {},
     "output_type": "display_data"
    },
    {
     "data": {
      "application/vnd.jupyter.widget-view+json": {
       "model_id": "2526b559917d44bea01e9c12e07ca808",
       "version_major": 2,
       "version_minor": 0
      },
      "text/plain": [
       "Validation: |          | 0/? [00:00<?, ?it/s]"
      ]
     },
     "metadata": {},
     "output_type": "display_data"
    },
    {
     "data": {
      "application/vnd.jupyter.widget-view+json": {
       "model_id": "e1164d2097c84dba9f403641386115ef",
       "version_major": 2,
       "version_minor": 0
      },
      "text/plain": [
       "Validation: |          | 0/? [00:00<?, ?it/s]"
      ]
     },
     "metadata": {},
     "output_type": "display_data"
    },
    {
     "data": {
      "application/vnd.jupyter.widget-view+json": {
       "model_id": "7900865c93fe4574bf9f128e482e55a3",
       "version_major": 2,
       "version_minor": 0
      },
      "text/plain": [
       "Validation: |          | 0/? [00:00<?, ?it/s]"
      ]
     },
     "metadata": {},
     "output_type": "display_data"
    },
    {
     "data": {
      "application/vnd.jupyter.widget-view+json": {
       "model_id": "f1ddf3ea393441b7a80d0a5f46cba69e",
       "version_major": 2,
       "version_minor": 0
      },
      "text/plain": [
       "Validation: |          | 0/? [00:00<?, ?it/s]"
      ]
     },
     "metadata": {},
     "output_type": "display_data"
    },
    {
     "data": {
      "application/vnd.jupyter.widget-view+json": {
       "model_id": "fc960822b9284eb0aa679fffdade115f",
       "version_major": 2,
       "version_minor": 0
      },
      "text/plain": [
       "Validation: |          | 0/? [00:00<?, ?it/s]"
      ]
     },
     "metadata": {},
     "output_type": "display_data"
    },
    {
     "data": {
      "application/vnd.jupyter.widget-view+json": {
       "model_id": "ac52ac694ee24e37af1b687f610429f4",
       "version_major": 2,
       "version_minor": 0
      },
      "text/plain": [
       "Validation: |          | 0/? [00:00<?, ?it/s]"
      ]
     },
     "metadata": {},
     "output_type": "display_data"
    },
    {
     "data": {
      "application/vnd.jupyter.widget-view+json": {
       "model_id": "de0873a0889846899387f19df6bcac8a",
       "version_major": 2,
       "version_minor": 0
      },
      "text/plain": [
       "Validation: |          | 0/? [00:00<?, ?it/s]"
      ]
     },
     "metadata": {},
     "output_type": "display_data"
    },
    {
     "data": {
      "application/vnd.jupyter.widget-view+json": {
       "model_id": "07d4d923cd3945a9915d5fa50f91d54e",
       "version_major": 2,
       "version_minor": 0
      },
      "text/plain": [
       "Validation: |          | 0/? [00:00<?, ?it/s]"
      ]
     },
     "metadata": {},
     "output_type": "display_data"
    },
    {
     "data": {
      "application/vnd.jupyter.widget-view+json": {
       "model_id": "05b31e2439e24a7a80195ce018f88df7",
       "version_major": 2,
       "version_minor": 0
      },
      "text/plain": [
       "Validation: |          | 0/? [00:00<?, ?it/s]"
      ]
     },
     "metadata": {},
     "output_type": "display_data"
    },
    {
     "data": {
      "application/vnd.jupyter.widget-view+json": {
       "model_id": "d90e959863b740d5b454f84e08b268e9",
       "version_major": 2,
       "version_minor": 0
      },
      "text/plain": [
       "Validation: |          | 0/? [00:00<?, ?it/s]"
      ]
     },
     "metadata": {},
     "output_type": "display_data"
    },
    {
     "data": {
      "application/vnd.jupyter.widget-view+json": {
       "model_id": "d7eda776a5df4982bcc376c40b7a2ef5",
       "version_major": 2,
       "version_minor": 0
      },
      "text/plain": [
       "Validation: |          | 0/? [00:00<?, ?it/s]"
      ]
     },
     "metadata": {},
     "output_type": "display_data"
    },
    {
     "data": {
      "application/vnd.jupyter.widget-view+json": {
       "model_id": "6754b09d44c245ffa279c4e09b1a821a",
       "version_major": 2,
       "version_minor": 0
      },
      "text/plain": [
       "Validation: |          | 0/? [00:00<?, ?it/s]"
      ]
     },
     "metadata": {},
     "output_type": "display_data"
    },
    {
     "data": {
      "application/vnd.jupyter.widget-view+json": {
       "model_id": "f343acc2f2574a5d95dbeb528d5adada",
       "version_major": 2,
       "version_minor": 0
      },
      "text/plain": [
       "Validation: |          | 0/? [00:00<?, ?it/s]"
      ]
     },
     "metadata": {},
     "output_type": "display_data"
    },
    {
     "data": {
      "application/vnd.jupyter.widget-view+json": {
       "model_id": "f7abe14077b942be9f4238770e428410",
       "version_major": 2,
       "version_minor": 0
      },
      "text/plain": [
       "Validation: |          | 0/? [00:00<?, ?it/s]"
      ]
     },
     "metadata": {},
     "output_type": "display_data"
    },
    {
     "data": {
      "application/vnd.jupyter.widget-view+json": {
       "model_id": "f7765dacc5a844e0b8a13bd82359a052",
       "version_major": 2,
       "version_minor": 0
      },
      "text/plain": [
       "Validation: |          | 0/? [00:00<?, ?it/s]"
      ]
     },
     "metadata": {},
     "output_type": "display_data"
    },
    {
     "data": {
      "application/vnd.jupyter.widget-view+json": {
       "model_id": "f851e77b4a024e9b9a7b235ff41c81c0",
       "version_major": 2,
       "version_minor": 0
      },
      "text/plain": [
       "Validation: |          | 0/? [00:00<?, ?it/s]"
      ]
     },
     "metadata": {},
     "output_type": "display_data"
    },
    {
     "data": {
      "application/vnd.jupyter.widget-view+json": {
       "model_id": "42a2c017cee1405689e5933608a15d70",
       "version_major": 2,
       "version_minor": 0
      },
      "text/plain": [
       "Validation: |          | 0/? [00:00<?, ?it/s]"
      ]
     },
     "metadata": {},
     "output_type": "display_data"
    },
    {
     "data": {
      "application/vnd.jupyter.widget-view+json": {
       "model_id": "8c161e8089b04fc8b31631e3cb353a81",
       "version_major": 2,
       "version_minor": 0
      },
      "text/plain": [
       "Validation: |          | 0/? [00:00<?, ?it/s]"
      ]
     },
     "metadata": {},
     "output_type": "display_data"
    },
    {
     "data": {
      "application/vnd.jupyter.widget-view+json": {
       "model_id": "c61cc9dc138642e6b62f86b4e9f66398",
       "version_major": 2,
       "version_minor": 0
      },
      "text/plain": [
       "Validation: |          | 0/? [00:00<?, ?it/s]"
      ]
     },
     "metadata": {},
     "output_type": "display_data"
    },
    {
     "name": "stderr",
     "output_type": "stream",
     "text": [
      "`Trainer.fit` stopped: `max_epochs=25` reached.\n",
      "Restoring states from the checkpoint path at ./lightning_logs/coursework/linear_probe_imagenet/version_8/checkpoints/epoch=7-step=1184.ckpt\n",
      "Loaded model weights from the checkpoint at ./lightning_logs/coursework/linear_probe_imagenet/version_8/checkpoints/epoch=7-step=1184.ckpt\n"
     ]
    },
    {
     "data": {
      "application/vnd.jupyter.widget-view+json": {
       "model_id": "85ef3f9fd86d4a96aef2b70cee63851b",
       "version_major": 2,
       "version_minor": 0
      },
      "text/plain": [
       "Validation: |          | 0/? [00:00<?, ?it/s]"
      ]
     },
     "metadata": {},
     "output_type": "display_data"
    },
    {
     "name": "stderr",
     "output_type": "stream",
     "text": [
      "Restoring states from the checkpoint path at ./lightning_logs/coursework/linear_probe_imagenet/version_8/checkpoints/epoch=7-step=1184.ckpt\n",
      "Loaded model weights from the checkpoint at ./lightning_logs/coursework/linear_probe_imagenet/version_8/checkpoints/epoch=7-step=1184.ckpt\n"
     ]
    },
    {
     "name": "stdout",
     "output_type": "stream",
     "text": [
      "────────────────────────────────────────────────────────────────────────────────────────────────────────────────────────\n",
      "     Validate metric           DataLoader 0\n",
      "────────────────────────────────────────────────────────────────────────────────────────────────────────────────────────\n",
      "        val_auroc           0.9082255959510803\n",
      "        val_loss            0.35509124398231506\n",
      "────────────────────────────────────────────────────────────────────────────────────────────────────────────────────────\n"
     ]
    },
    {
     "data": {
      "application/vnd.jupyter.widget-view+json": {
       "model_id": "7f6eea0b13274e5c8badc87547f136b3",
       "version_major": 2,
       "version_minor": 0
      },
      "text/plain": [
       "Testing: |          | 0/? [00:00<?, ?it/s]"
      ]
     },
     "metadata": {},
     "output_type": "display_data"
    },
    {
     "name": "stdout",
     "output_type": "stream",
     "text": [
      "────────────────────────────────────────────────────────────────────────────────────────────────────────────────────────\n",
      "       Test metric             DataLoader 0\n",
      "────────────────────────────────────────────────────────────────────────────────────────────────────────────────────────\n",
      "       test_auroc           0.7919484376907349\n",
      "        test_loss           0.5793928503990173\n",
      "────────────────────────────────────────────────────────────────────────────────────────────────────────────────────────\n"
     ]
    },
    {
     "name": "stderr",
     "output_type": "stream",
     "text": [
      "GPU available: True (mps), used: True\n",
      "TPU available: False, using: 0 TPU cores\n",
      "IPU available: False, using: 0 IPUs\n",
      "HPU available: False, using: 0 HPUs\n",
      "\n",
      "  | Name       | Type         | Params\n",
      "--------------------------------------------\n",
      "0 | encoder    | ImageEncoder | 23.5 M\n",
      "1 | classifier | Linear       | 4.1 K \n",
      "--------------------------------------------\n",
      "4.1 K     Trainable params\n",
      "23.5 M    Non-trainable params\n",
      "23.5 M    Total params\n",
      "94.023    Total estimated model params size (MB)\n"
     ]
    },
    {
     "name": "stdout",
     "output_type": "stream",
     "text": [
      "<All keys matched successfully>\n"
     ]
    },
    {
     "data": {
      "application/vnd.jupyter.widget-view+json": {
       "model_id": "9d386300982c478d8f4f7f6935ca46d6",
       "version_major": 2,
       "version_minor": 0
      },
      "text/plain": [
       "Sanity Checking: |          | 0/? [00:00<?, ?it/s]"
      ]
     },
     "metadata": {},
     "output_type": "display_data"
    },
    {
     "data": {
      "application/vnd.jupyter.widget-view+json": {
       "model_id": "0017859ac9764f04a291be02d1c4bdd7",
       "version_major": 2,
       "version_minor": 0
      },
      "text/plain": [
       "Training: |          | 0/? [00:00<?, ?it/s]"
      ]
     },
     "metadata": {},
     "output_type": "display_data"
    },
    {
     "data": {
      "application/vnd.jupyter.widget-view+json": {
       "model_id": "58b12b66132a47a89c81d2f7a7799b28",
       "version_major": 2,
       "version_minor": 0
      },
      "text/plain": [
       "Validation: |          | 0/? [00:00<?, ?it/s]"
      ]
     },
     "metadata": {},
     "output_type": "display_data"
    },
    {
     "data": {
      "application/vnd.jupyter.widget-view+json": {
       "model_id": "df32582e58a74d71a66ff4f2a687790c",
       "version_major": 2,
       "version_minor": 0
      },
      "text/plain": [
       "Validation: |          | 0/? [00:00<?, ?it/s]"
      ]
     },
     "metadata": {},
     "output_type": "display_data"
    },
    {
     "data": {
      "application/vnd.jupyter.widget-view+json": {
       "model_id": "13ab448f98974f30938415a3d1533ad2",
       "version_major": 2,
       "version_minor": 0
      },
      "text/plain": [
       "Validation: |          | 0/? [00:00<?, ?it/s]"
      ]
     },
     "metadata": {},
     "output_type": "display_data"
    },
    {
     "data": {
      "application/vnd.jupyter.widget-view+json": {
       "model_id": "bfb16cfea9054d9bb4dcd36a43451a70",
       "version_major": 2,
       "version_minor": 0
      },
      "text/plain": [
       "Validation: |          | 0/? [00:00<?, ?it/s]"
      ]
     },
     "metadata": {},
     "output_type": "display_data"
    },
    {
     "data": {
      "application/vnd.jupyter.widget-view+json": {
       "model_id": "ebbf5ab75e604c5088dd7039996535a5",
       "version_major": 2,
       "version_minor": 0
      },
      "text/plain": [
       "Validation: |          | 0/? [00:00<?, ?it/s]"
      ]
     },
     "metadata": {},
     "output_type": "display_data"
    },
    {
     "data": {
      "application/vnd.jupyter.widget-view+json": {
       "model_id": "1a1cfd5a6b3845f6a1919665e74b9b4a",
       "version_major": 2,
       "version_minor": 0
      },
      "text/plain": [
       "Validation: |          | 0/? [00:00<?, ?it/s]"
      ]
     },
     "metadata": {},
     "output_type": "display_data"
    },
    {
     "data": {
      "application/vnd.jupyter.widget-view+json": {
       "model_id": "692e09c61f3b4396a334a51394d6634b",
       "version_major": 2,
       "version_minor": 0
      },
      "text/plain": [
       "Validation: |          | 0/? [00:00<?, ?it/s]"
      ]
     },
     "metadata": {},
     "output_type": "display_data"
    },
    {
     "data": {
      "application/vnd.jupyter.widget-view+json": {
       "model_id": "def98217911f498b81b531fba4bba932",
       "version_major": 2,
       "version_minor": 0
      },
      "text/plain": [
       "Validation: |          | 0/? [00:00<?, ?it/s]"
      ]
     },
     "metadata": {},
     "output_type": "display_data"
    },
    {
     "data": {
      "application/vnd.jupyter.widget-view+json": {
       "model_id": "76f58276079f48cf9999d1610e670543",
       "version_major": 2,
       "version_minor": 0
      },
      "text/plain": [
       "Validation: |          | 0/? [00:00<?, ?it/s]"
      ]
     },
     "metadata": {},
     "output_type": "display_data"
    },
    {
     "data": {
      "application/vnd.jupyter.widget-view+json": {
       "model_id": "08aa3be8d18e45f8b67c61964b52c2dd",
       "version_major": 2,
       "version_minor": 0
      },
      "text/plain": [
       "Validation: |          | 0/? [00:00<?, ?it/s]"
      ]
     },
     "metadata": {},
     "output_type": "display_data"
    },
    {
     "data": {
      "application/vnd.jupyter.widget-view+json": {
       "model_id": "408b09c6a633447ca35ac64d449b2be5",
       "version_major": 2,
       "version_minor": 0
      },
      "text/plain": [
       "Validation: |          | 0/? [00:00<?, ?it/s]"
      ]
     },
     "metadata": {},
     "output_type": "display_data"
    },
    {
     "data": {
      "application/vnd.jupyter.widget-view+json": {
       "model_id": "969281a2bb5141b8ad86936f186a518e",
       "version_major": 2,
       "version_minor": 0
      },
      "text/plain": [
       "Validation: |          | 0/? [00:00<?, ?it/s]"
      ]
     },
     "metadata": {},
     "output_type": "display_data"
    },
    {
     "data": {
      "application/vnd.jupyter.widget-view+json": {
       "model_id": "125a8edc4eb9483faf97107e68d552eb",
       "version_major": 2,
       "version_minor": 0
      },
      "text/plain": [
       "Validation: |          | 0/? [00:00<?, ?it/s]"
      ]
     },
     "metadata": {},
     "output_type": "display_data"
    },
    {
     "data": {
      "application/vnd.jupyter.widget-view+json": {
       "model_id": "84e9b73c90d44865a2d767bf17c81c8b",
       "version_major": 2,
       "version_minor": 0
      },
      "text/plain": [
       "Validation: |          | 0/? [00:00<?, ?it/s]"
      ]
     },
     "metadata": {},
     "output_type": "display_data"
    },
    {
     "data": {
      "application/vnd.jupyter.widget-view+json": {
       "model_id": "0d9f36339092460bb55f01f63c1c3959",
       "version_major": 2,
       "version_minor": 0
      },
      "text/plain": [
       "Validation: |          | 0/? [00:00<?, ?it/s]"
      ]
     },
     "metadata": {},
     "output_type": "display_data"
    },
    {
     "data": {
      "application/vnd.jupyter.widget-view+json": {
       "model_id": "e406adc21e994d7494a599c37d682922",
       "version_major": 2,
       "version_minor": 0
      },
      "text/plain": [
       "Validation: |          | 0/? [00:00<?, ?it/s]"
      ]
     },
     "metadata": {},
     "output_type": "display_data"
    },
    {
     "data": {
      "application/vnd.jupyter.widget-view+json": {
       "model_id": "a8ed8f370a5c44dbb14a4165c5208c4f",
       "version_major": 2,
       "version_minor": 0
      },
      "text/plain": [
       "Validation: |          | 0/? [00:00<?, ?it/s]"
      ]
     },
     "metadata": {},
     "output_type": "display_data"
    },
    {
     "data": {
      "application/vnd.jupyter.widget-view+json": {
       "model_id": "19b5bbc5d7fe477f87953a149b35f500",
       "version_major": 2,
       "version_minor": 0
      },
      "text/plain": [
       "Validation: |          | 0/? [00:00<?, ?it/s]"
      ]
     },
     "metadata": {},
     "output_type": "display_data"
    },
    {
     "data": {
      "application/vnd.jupyter.widget-view+json": {
       "model_id": "4106f3b06ec9420cbec9c22f63576f86",
       "version_major": 2,
       "version_minor": 0
      },
      "text/plain": [
       "Validation: |          | 0/? [00:00<?, ?it/s]"
      ]
     },
     "metadata": {},
     "output_type": "display_data"
    },
    {
     "data": {
      "application/vnd.jupyter.widget-view+json": {
       "model_id": "316ec251ba7f4824953d3438be03d77b",
       "version_major": 2,
       "version_minor": 0
      },
      "text/plain": [
       "Validation: |          | 0/? [00:00<?, ?it/s]"
      ]
     },
     "metadata": {},
     "output_type": "display_data"
    },
    {
     "data": {
      "application/vnd.jupyter.widget-view+json": {
       "model_id": "44e68126ad6d4b19b0979ff0f4dd5dd2",
       "version_major": 2,
       "version_minor": 0
      },
      "text/plain": [
       "Validation: |          | 0/? [00:00<?, ?it/s]"
      ]
     },
     "metadata": {},
     "output_type": "display_data"
    },
    {
     "data": {
      "application/vnd.jupyter.widget-view+json": {
       "model_id": "fe864c3ff1b6454ebbc2c38906e6e871",
       "version_major": 2,
       "version_minor": 0
      },
      "text/plain": [
       "Validation: |          | 0/? [00:00<?, ?it/s]"
      ]
     },
     "metadata": {},
     "output_type": "display_data"
    },
    {
     "data": {
      "application/vnd.jupyter.widget-view+json": {
       "model_id": "bade66c3b51a4204881bae6b7adfcb23",
       "version_major": 2,
       "version_minor": 0
      },
      "text/plain": [
       "Validation: |          | 0/? [00:00<?, ?it/s]"
      ]
     },
     "metadata": {},
     "output_type": "display_data"
    },
    {
     "data": {
      "application/vnd.jupyter.widget-view+json": {
       "model_id": "e50a6c480bc04e56ab3efc5457251c64",
       "version_major": 2,
       "version_minor": 0
      },
      "text/plain": [
       "Validation: |          | 0/? [00:00<?, ?it/s]"
      ]
     },
     "metadata": {},
     "output_type": "display_data"
    },
    {
     "data": {
      "application/vnd.jupyter.widget-view+json": {
       "model_id": "effa4db45f75419ab632b2ae862ea05b",
       "version_major": 2,
       "version_minor": 0
      },
      "text/plain": [
       "Validation: |          | 0/? [00:00<?, ?it/s]"
      ]
     },
     "metadata": {},
     "output_type": "display_data"
    },
    {
     "name": "stderr",
     "output_type": "stream",
     "text": [
      "`Trainer.fit` stopped: `max_epochs=25` reached.\n",
      "Restoring states from the checkpoint path at ./lightning_logs/coursework/linear_probe_chestxray/version_7/checkpoints/epoch=12-step=1924.ckpt\n",
      "Loaded model weights from the checkpoint at ./lightning_logs/coursework/linear_probe_chestxray/version_7/checkpoints/epoch=12-step=1924.ckpt\n"
     ]
    },
    {
     "data": {
      "application/vnd.jupyter.widget-view+json": {
       "model_id": "aa70a13797be47fdb8492dcf8b7cab6e",
       "version_major": 2,
       "version_minor": 0
      },
      "text/plain": [
       "Validation: |          | 0/? [00:00<?, ?it/s]"
      ]
     },
     "metadata": {},
     "output_type": "display_data"
    },
    {
     "name": "stderr",
     "output_type": "stream",
     "text": [
      "Restoring states from the checkpoint path at ./lightning_logs/coursework/linear_probe_chestxray/version_7/checkpoints/epoch=12-step=1924.ckpt\n",
      "Loaded model weights from the checkpoint at ./lightning_logs/coursework/linear_probe_chestxray/version_7/checkpoints/epoch=12-step=1924.ckpt\n"
     ]
    },
    {
     "name": "stdout",
     "output_type": "stream",
     "text": [
      "────────────────────────────────────────────────────────────────────────────────────────────────────────────────────────\n",
      "     Validate metric           DataLoader 0\n",
      "────────────────────────────────────────────────────────────────────────────────────────────────────────────────────────\n",
      "        val_auroc           0.9339636564254761\n",
      "        val_loss            0.29096561670303345\n",
      "────────────────────────────────────────────────────────────────────────────────────────────────────────────────────────\n"
     ]
    },
    {
     "data": {
      "application/vnd.jupyter.widget-view+json": {
       "model_id": "e4dfc926e259408a93f8cd6cba8802f8",
       "version_major": 2,
       "version_minor": 0
      },
      "text/plain": [
       "Testing: |          | 0/? [00:00<?, ?it/s]"
      ]
     },
     "metadata": {},
     "output_type": "display_data"
    },
    {
     "name": "stdout",
     "output_type": "stream",
     "text": [
      "────────────────────────────────────────────────────────────────────────────────────────────────────────────────────────\n",
      "       Test metric             DataLoader 0\n",
      "────────────────────────────────────────────────────────────────────────────────────────────────────────────────────────\n",
      "       test_auroc           0.8981112837791443\n",
      "        test_loss           0.4481395184993744\n",
      "────────────────────────────────────────────────────────────────────────────────────────────────────────────────────────\n"
     ]
    },
    {
     "data": {
      "text/plain": [
       "[{'test_loss': 0.4481395184993744, 'test_auroc': 0.8981112837791443}]"
      ]
     },
     "execution_count": 19,
     "metadata": {},
     "output_type": "execute_result"
    }
   ],
   "source": [
    "seed_everything(33, workers=True)\n",
    "\n",
    "data = PneumoniaMNISTDataModule(batch_size=32)\n",
    "\n",
    "# TASK: Implement the linear probing training and testing routines.\n",
    "\n",
    "# Model 1: Linear probing with the ImageNet pre-trained encoder\n",
    "model = ImageClassifier(pretrained_encoder=load_encoder_from_checkpoint(imagenet_model), freeze_encoder=True)\n",
    "trainer = Trainer(\n",
    "    max_epochs=25,\n",
    "    accelerator='auto',\n",
    "    devices=1,\n",
    "    log_every_n_steps=5,\n",
    "    logger=TensorBoardLogger(save_dir='./lightning_logs/coursework/', name='linear_probe_imagenet'),\n",
    "    callbacks=[ModelCheckpoint(monitor='val_loss', mode='min'), TQDMProgressBar(refresh_rate=10)]\n",
    ")\n",
    "trainer.fit(model=model, datamodule=data)\n",
    "trainer.validate(model=model, datamodule=data, ckpt_path=trainer.checkpoint_callback.best_model_path)\n",
    "trainer.test(model=model, datamodule=data, ckpt_path=trainer.checkpoint_callback.best_model_path)\n",
    "\n",
    "# Model 2: Linear probing with the SimCLR pre-trained encoder\n",
    "model = ImageClassifier(pretrained_encoder=load_encoder_from_checkpoint(chestxray_model), freeze_encoder=True)\n",
    "trainer = Trainer(\n",
    "    max_epochs=25,\n",
    "    accelerator='auto',\n",
    "    devices=1,\n",
    "    log_every_n_steps=5,\n",
    "    logger=TensorBoardLogger(save_dir='./lightning_logs/coursework/', name='linear_probe_chestxray'),\n",
    "    callbacks=[ModelCheckpoint(monitor='val_loss', mode='min'), TQDMProgressBar(refresh_rate=10)]\n",
    ")\n",
    "trainer.fit(model=model, datamodule=data)\n",
    "trainer.validate(model=model, datamodule=data, ckpt_path=trainer.checkpoint_callback.best_model_path)\n",
    "trainer.test(model=model, datamodule=data, ckpt_path=trainer.checkpoint_callback.best_model_path)"
   ]
  },
  {
   "cell_type": "markdown",
   "metadata": {
    "id": "gDa5-HnyHoRh"
   },
   "source": [
    "### **Task C-3b:** Implement training and testing for model finetuning.\n",
    "\n",
    "Repeat the experiments, but this time using model finetuning instead of linear probing. Evaluate on both the validation and test sets."
   ]
  },
  {
   "cell_type": "code",
   "execution_count": 98,
   "metadata": {
    "ExecuteTime": {
     "end_time": "2024-02-17T18:45:51.889932Z",
     "start_time": "2024-02-17T18:34:16.406620Z"
    },
    "id": "qF2RYgemHdf-"
   },
   "outputs": [
    {
     "name": "stderr",
     "output_type": "stream",
     "text": [
      "Seed set to 33\n"
     ]
    },
    {
     "name": "stdout",
     "output_type": "stream",
     "text": [
      "Using downloaded and verified file: ./data/coursework/pneumoniamnist.npz\n",
      "Using downloaded and verified file: ./data/coursework/pneumoniamnist.npz\n",
      "Using downloaded and verified file: ./data/coursework/pneumoniamnist.npz\n"
     ]
    },
    {
     "name": "stderr",
     "output_type": "stream",
     "text": [
      "GPU available: True (mps), used: True\n",
      "TPU available: False, using: 0 TPU cores\n",
      "IPU available: False, using: 0 IPUs\n",
      "HPU available: False, using: 0 HPUs\n",
      "Missing logger folder: ./lightning_logs/coursework/finetune_imagenet\n",
      "\n",
      "  | Name       | Type         | Params\n",
      "--------------------------------------------\n",
      "0 | encoder    | ImageEncoder | 23.5 M\n",
      "1 | classifier | Linear       | 4.1 K \n",
      "--------------------------------------------\n",
      "23.5 M    Trainable params\n",
      "0         Non-trainable params\n",
      "23.5 M    Total params\n",
      "94.023    Total estimated model params size (MB)\n"
     ]
    },
    {
     "name": "stdout",
     "output_type": "stream",
     "text": [
      "<All keys matched successfully>\n"
     ]
    },
    {
     "data": {
      "application/vnd.jupyter.widget-view+json": {
       "model_id": "fb5e3817f28042dca0cc289791875e70",
       "version_major": 2,
       "version_minor": 0
      },
      "text/plain": [
       "Sanity Checking: |          | 0/? [00:00<?, ?it/s]"
      ]
     },
     "metadata": {},
     "output_type": "display_data"
    },
    {
     "data": {
      "application/vnd.jupyter.widget-view+json": {
       "model_id": "43c75e35c7ef41799ced5ea0e388f316",
       "version_major": 2,
       "version_minor": 0
      },
      "text/plain": [
       "Training: |          | 0/? [00:00<?, ?it/s]"
      ]
     },
     "metadata": {},
     "output_type": "display_data"
    },
    {
     "data": {
      "application/vnd.jupyter.widget-view+json": {
       "model_id": "0a59a153f9cd4ab8a7ef1c6bf88715bd",
       "version_major": 2,
       "version_minor": 0
      },
      "text/plain": [
       "Validation: |          | 0/? [00:00<?, ?it/s]"
      ]
     },
     "metadata": {},
     "output_type": "display_data"
    },
    {
     "data": {
      "application/vnd.jupyter.widget-view+json": {
       "model_id": "1d3a3d03028349e8945c417b723d7051",
       "version_major": 2,
       "version_minor": 0
      },
      "text/plain": [
       "Validation: |          | 0/? [00:00<?, ?it/s]"
      ]
     },
     "metadata": {},
     "output_type": "display_data"
    },
    {
     "data": {
      "application/vnd.jupyter.widget-view+json": {
       "model_id": "6f93b0af8ff54ff9b5c56cfb4d3da39c",
       "version_major": 2,
       "version_minor": 0
      },
      "text/plain": [
       "Validation: |          | 0/? [00:00<?, ?it/s]"
      ]
     },
     "metadata": {},
     "output_type": "display_data"
    },
    {
     "data": {
      "application/vnd.jupyter.widget-view+json": {
       "model_id": "d208a6f45523409eb42e0576881b1498",
       "version_major": 2,
       "version_minor": 0
      },
      "text/plain": [
       "Validation: |          | 0/? [00:00<?, ?it/s]"
      ]
     },
     "metadata": {},
     "output_type": "display_data"
    },
    {
     "data": {
      "application/vnd.jupyter.widget-view+json": {
       "model_id": "6d287516c8084645b86711f9c9343d1a",
       "version_major": 2,
       "version_minor": 0
      },
      "text/plain": [
       "Validation: |          | 0/? [00:00<?, ?it/s]"
      ]
     },
     "metadata": {},
     "output_type": "display_data"
    },
    {
     "data": {
      "application/vnd.jupyter.widget-view+json": {
       "model_id": "a133f79546c542389c2b88d04099584d",
       "version_major": 2,
       "version_minor": 0
      },
      "text/plain": [
       "Validation: |          | 0/? [00:00<?, ?it/s]"
      ]
     },
     "metadata": {},
     "output_type": "display_data"
    },
    {
     "data": {
      "application/vnd.jupyter.widget-view+json": {
       "model_id": "799333c97c934ccabe71e0d259653a97",
       "version_major": 2,
       "version_minor": 0
      },
      "text/plain": [
       "Validation: |          | 0/? [00:00<?, ?it/s]"
      ]
     },
     "metadata": {},
     "output_type": "display_data"
    },
    {
     "data": {
      "application/vnd.jupyter.widget-view+json": {
       "model_id": "541571334a6b47deae48c88077b7e197",
       "version_major": 2,
       "version_minor": 0
      },
      "text/plain": [
       "Validation: |          | 0/? [00:00<?, ?it/s]"
      ]
     },
     "metadata": {},
     "output_type": "display_data"
    },
    {
     "data": {
      "application/vnd.jupyter.widget-view+json": {
       "model_id": "db565db6fab04862af646e94476c4be3",
       "version_major": 2,
       "version_minor": 0
      },
      "text/plain": [
       "Validation: |          | 0/? [00:00<?, ?it/s]"
      ]
     },
     "metadata": {},
     "output_type": "display_data"
    },
    {
     "data": {
      "application/vnd.jupyter.widget-view+json": {
       "model_id": "0f20cf4b91af4c72ac3be4543e7cbdc3",
       "version_major": 2,
       "version_minor": 0
      },
      "text/plain": [
       "Validation: |          | 0/? [00:00<?, ?it/s]"
      ]
     },
     "metadata": {},
     "output_type": "display_data"
    },
    {
     "data": {
      "application/vnd.jupyter.widget-view+json": {
       "model_id": "5cea75580e6b48cda03ad503e14d182b",
       "version_major": 2,
       "version_minor": 0
      },
      "text/plain": [
       "Validation: |          | 0/? [00:00<?, ?it/s]"
      ]
     },
     "metadata": {},
     "output_type": "display_data"
    },
    {
     "data": {
      "application/vnd.jupyter.widget-view+json": {
       "model_id": "fed32815e38c43e6804d5315e2728aea",
       "version_major": 2,
       "version_minor": 0
      },
      "text/plain": [
       "Validation: |          | 0/? [00:00<?, ?it/s]"
      ]
     },
     "metadata": {},
     "output_type": "display_data"
    },
    {
     "data": {
      "application/vnd.jupyter.widget-view+json": {
       "model_id": "251db0e5297c401eb2b41abf0df30b7b",
       "version_major": 2,
       "version_minor": 0
      },
      "text/plain": [
       "Validation: |          | 0/? [00:00<?, ?it/s]"
      ]
     },
     "metadata": {},
     "output_type": "display_data"
    },
    {
     "data": {
      "application/vnd.jupyter.widget-view+json": {
       "model_id": "9e09a86cbfc14961ac965ddb6cd74a06",
       "version_major": 2,
       "version_minor": 0
      },
      "text/plain": [
       "Validation: |          | 0/? [00:00<?, ?it/s]"
      ]
     },
     "metadata": {},
     "output_type": "display_data"
    },
    {
     "data": {
      "application/vnd.jupyter.widget-view+json": {
       "model_id": "30b2972f117c459c8189b6e3125b14cb",
       "version_major": 2,
       "version_minor": 0
      },
      "text/plain": [
       "Validation: |          | 0/? [00:00<?, ?it/s]"
      ]
     },
     "metadata": {},
     "output_type": "display_data"
    },
    {
     "data": {
      "application/vnd.jupyter.widget-view+json": {
       "model_id": "824dcf178111406fa77a89f1c2a0477f",
       "version_major": 2,
       "version_minor": 0
      },
      "text/plain": [
       "Validation: |          | 0/? [00:00<?, ?it/s]"
      ]
     },
     "metadata": {},
     "output_type": "display_data"
    },
    {
     "data": {
      "application/vnd.jupyter.widget-view+json": {
       "model_id": "b238f8b030a046aaa93e97daf12cb9af",
       "version_major": 2,
       "version_minor": 0
      },
      "text/plain": [
       "Validation: |          | 0/? [00:00<?, ?it/s]"
      ]
     },
     "metadata": {},
     "output_type": "display_data"
    },
    {
     "data": {
      "application/vnd.jupyter.widget-view+json": {
       "model_id": "4d8d713407134a61ad4b3543db97af95",
       "version_major": 2,
       "version_minor": 0
      },
      "text/plain": [
       "Validation: |          | 0/? [00:00<?, ?it/s]"
      ]
     },
     "metadata": {},
     "output_type": "display_data"
    },
    {
     "data": {
      "application/vnd.jupyter.widget-view+json": {
       "model_id": "9051739deda9472bb84f717182e0f196",
       "version_major": 2,
       "version_minor": 0
      },
      "text/plain": [
       "Validation: |          | 0/? [00:00<?, ?it/s]"
      ]
     },
     "metadata": {},
     "output_type": "display_data"
    },
    {
     "data": {
      "application/vnd.jupyter.widget-view+json": {
       "model_id": "d172ce881e23419bb8b70ee79db15feb",
       "version_major": 2,
       "version_minor": 0
      },
      "text/plain": [
       "Validation: |          | 0/? [00:00<?, ?it/s]"
      ]
     },
     "metadata": {},
     "output_type": "display_data"
    },
    {
     "data": {
      "application/vnd.jupyter.widget-view+json": {
       "model_id": "32acaa81682044a9aa732cda825ae7ca",
       "version_major": 2,
       "version_minor": 0
      },
      "text/plain": [
       "Validation: |          | 0/? [00:00<?, ?it/s]"
      ]
     },
     "metadata": {},
     "output_type": "display_data"
    },
    {
     "data": {
      "application/vnd.jupyter.widget-view+json": {
       "model_id": "83bf1c91f46f42da993de61b45b8866e",
       "version_major": 2,
       "version_minor": 0
      },
      "text/plain": [
       "Validation: |          | 0/? [00:00<?, ?it/s]"
      ]
     },
     "metadata": {},
     "output_type": "display_data"
    },
    {
     "data": {
      "application/vnd.jupyter.widget-view+json": {
       "model_id": "39b44038b2464622b3739e4fbc89805a",
       "version_major": 2,
       "version_minor": 0
      },
      "text/plain": [
       "Validation: |          | 0/? [00:00<?, ?it/s]"
      ]
     },
     "metadata": {},
     "output_type": "display_data"
    },
    {
     "data": {
      "application/vnd.jupyter.widget-view+json": {
       "model_id": "8b73711b2e654ca5a92116713ff000fd",
       "version_major": 2,
       "version_minor": 0
      },
      "text/plain": [
       "Validation: |          | 0/? [00:00<?, ?it/s]"
      ]
     },
     "metadata": {},
     "output_type": "display_data"
    },
    {
     "data": {
      "application/vnd.jupyter.widget-view+json": {
       "model_id": "6f0cfbecaa8f460d8ab4b10d475f0f2a",
       "version_major": 2,
       "version_minor": 0
      },
      "text/plain": [
       "Validation: |          | 0/? [00:00<?, ?it/s]"
      ]
     },
     "metadata": {},
     "output_type": "display_data"
    },
    {
     "name": "stderr",
     "output_type": "stream",
     "text": [
      "`Trainer.fit` stopped: `max_epochs=25` reached.\n",
      "Restoring states from the checkpoint path at ./lightning_logs/coursework/finetune_imagenet/version_0/checkpoints/epoch=6-step=1036.ckpt\n",
      "Loaded model weights from the checkpoint at ./lightning_logs/coursework/finetune_imagenet/version_0/checkpoints/epoch=6-step=1036.ckpt\n"
     ]
    },
    {
     "data": {
      "application/vnd.jupyter.widget-view+json": {
       "model_id": "11bfbf2c12a64a8cb21da82cbe2b3608",
       "version_major": 2,
       "version_minor": 0
      },
      "text/plain": [
       "Validation: |          | 0/? [00:00<?, ?it/s]"
      ]
     },
     "metadata": {},
     "output_type": "display_data"
    },
    {
     "name": "stderr",
     "output_type": "stream",
     "text": [
      "Restoring states from the checkpoint path at ./lightning_logs/coursework/finetune_imagenet/version_0/checkpoints/epoch=6-step=1036.ckpt\n"
     ]
    },
    {
     "name": "stdout",
     "output_type": "stream",
     "text": [
      "────────────────────────────────────────────────────────────────────────────────────────────────────────────────────────\n",
      "     Validate metric           DataLoader 0\n",
      "────────────────────────────────────────────────────────────────────────────────────────────────────────────────────────\n",
      "        val_auroc           0.9960390329360962\n",
      "        val_loss            0.07328185439109802\n",
      "────────────────────────────────────────────────────────────────────────────────────────────────────────────────────────\n"
     ]
    },
    {
     "name": "stderr",
     "output_type": "stream",
     "text": [
      "Loaded model weights from the checkpoint at ./lightning_logs/coursework/finetune_imagenet/version_0/checkpoints/epoch=6-step=1036.ckpt\n"
     ]
    },
    {
     "data": {
      "application/vnd.jupyter.widget-view+json": {
       "model_id": "7f186499584c498ea1f39259851a6f91",
       "version_major": 2,
       "version_minor": 0
      },
      "text/plain": [
       "Testing: |          | 0/? [00:00<?, ?it/s]"
      ]
     },
     "metadata": {},
     "output_type": "display_data"
    },
    {
     "name": "stdout",
     "output_type": "stream",
     "text": [
      "────────────────────────────────────────────────────────────────────────────────────────────────────────────────────────\n",
      "       Test metric             DataLoader 0\n",
      "────────────────────────────────────────────────────────────────────────────────────────────────────────────────────────\n",
      "       test_auroc           0.9606674313545227\n",
      "        test_loss           0.32537344098091125\n",
      "────────────────────────────────────────────────────────────────────────────────────────────────────────────────────────\n"
     ]
    },
    {
     "name": "stderr",
     "output_type": "stream",
     "text": [
      "GPU available: True (mps), used: True\n",
      "TPU available: False, using: 0 TPU cores\n",
      "IPU available: False, using: 0 IPUs\n",
      "HPU available: False, using: 0 HPUs\n",
      "Missing logger folder: ./lightning_logs/coursework/finetune_chestxray\n",
      "\n",
      "  | Name       | Type         | Params\n",
      "--------------------------------------------\n",
      "0 | encoder    | ImageEncoder | 23.5 M\n",
      "1 | classifier | Linear       | 4.1 K \n",
      "--------------------------------------------\n",
      "23.5 M    Trainable params\n",
      "0         Non-trainable params\n",
      "23.5 M    Total params\n",
      "94.023    Total estimated model params size (MB)\n"
     ]
    },
    {
     "name": "stdout",
     "output_type": "stream",
     "text": [
      "<All keys matched successfully>\n"
     ]
    },
    {
     "data": {
      "application/vnd.jupyter.widget-view+json": {
       "model_id": "c129c68b105f4da6b99dfe89c42f2a77",
       "version_major": 2,
       "version_minor": 0
      },
      "text/plain": [
       "Sanity Checking: |          | 0/? [00:00<?, ?it/s]"
      ]
     },
     "metadata": {},
     "output_type": "display_data"
    },
    {
     "data": {
      "application/vnd.jupyter.widget-view+json": {
       "model_id": "82cfc0f922f74809b8e307beb92b419e",
       "version_major": 2,
       "version_minor": 0
      },
      "text/plain": [
       "Training: |          | 0/? [00:00<?, ?it/s]"
      ]
     },
     "metadata": {},
     "output_type": "display_data"
    },
    {
     "data": {
      "application/vnd.jupyter.widget-view+json": {
       "model_id": "1a61e7dba977457bb178f94f27a0736f",
       "version_major": 2,
       "version_minor": 0
      },
      "text/plain": [
       "Validation: |          | 0/? [00:00<?, ?it/s]"
      ]
     },
     "metadata": {},
     "output_type": "display_data"
    },
    {
     "data": {
      "application/vnd.jupyter.widget-view+json": {
       "model_id": "57db9386a8a74903b60a7d4107bf6656",
       "version_major": 2,
       "version_minor": 0
      },
      "text/plain": [
       "Validation: |          | 0/? [00:00<?, ?it/s]"
      ]
     },
     "metadata": {},
     "output_type": "display_data"
    },
    {
     "data": {
      "application/vnd.jupyter.widget-view+json": {
       "model_id": "b5419a0b99c5465cafe745826339fbf6",
       "version_major": 2,
       "version_minor": 0
      },
      "text/plain": [
       "Validation: |          | 0/? [00:00<?, ?it/s]"
      ]
     },
     "metadata": {},
     "output_type": "display_data"
    },
    {
     "data": {
      "application/vnd.jupyter.widget-view+json": {
       "model_id": "cf6e461dd65942928b43df9a23948473",
       "version_major": 2,
       "version_minor": 0
      },
      "text/plain": [
       "Validation: |          | 0/? [00:00<?, ?it/s]"
      ]
     },
     "metadata": {},
     "output_type": "display_data"
    },
    {
     "data": {
      "application/vnd.jupyter.widget-view+json": {
       "model_id": "932c85791dfb4de3a58dd08ce3ca6779",
       "version_major": 2,
       "version_minor": 0
      },
      "text/plain": [
       "Validation: |          | 0/? [00:00<?, ?it/s]"
      ]
     },
     "metadata": {},
     "output_type": "display_data"
    },
    {
     "data": {
      "application/vnd.jupyter.widget-view+json": {
       "model_id": "e18bb35433c34eaf975a0c80c5fcf5a2",
       "version_major": 2,
       "version_minor": 0
      },
      "text/plain": [
       "Validation: |          | 0/? [00:00<?, ?it/s]"
      ]
     },
     "metadata": {},
     "output_type": "display_data"
    },
    {
     "data": {
      "application/vnd.jupyter.widget-view+json": {
       "model_id": "d38e7dc2c7ab481caa2975bdbdee63c9",
       "version_major": 2,
       "version_minor": 0
      },
      "text/plain": [
       "Validation: |          | 0/? [00:00<?, ?it/s]"
      ]
     },
     "metadata": {},
     "output_type": "display_data"
    },
    {
     "data": {
      "application/vnd.jupyter.widget-view+json": {
       "model_id": "d035ffa27fb048909aea3255e586715a",
       "version_major": 2,
       "version_minor": 0
      },
      "text/plain": [
       "Validation: |          | 0/? [00:00<?, ?it/s]"
      ]
     },
     "metadata": {},
     "output_type": "display_data"
    },
    {
     "data": {
      "application/vnd.jupyter.widget-view+json": {
       "model_id": "727518f91e4e4a13827a1ad1ad610228",
       "version_major": 2,
       "version_minor": 0
      },
      "text/plain": [
       "Validation: |          | 0/? [00:00<?, ?it/s]"
      ]
     },
     "metadata": {},
     "output_type": "display_data"
    },
    {
     "data": {
      "application/vnd.jupyter.widget-view+json": {
       "model_id": "911cfb64251c4cd59a4e286195e81766",
       "version_major": 2,
       "version_minor": 0
      },
      "text/plain": [
       "Validation: |          | 0/? [00:00<?, ?it/s]"
      ]
     },
     "metadata": {},
     "output_type": "display_data"
    },
    {
     "data": {
      "application/vnd.jupyter.widget-view+json": {
       "model_id": "31b6851a2f2d44d5be04baee7c523e02",
       "version_major": 2,
       "version_minor": 0
      },
      "text/plain": [
       "Validation: |          | 0/? [00:00<?, ?it/s]"
      ]
     },
     "metadata": {},
     "output_type": "display_data"
    },
    {
     "data": {
      "application/vnd.jupyter.widget-view+json": {
       "model_id": "478f9d88b8ad4b65937f0cc32121a2f7",
       "version_major": 2,
       "version_minor": 0
      },
      "text/plain": [
       "Validation: |          | 0/? [00:00<?, ?it/s]"
      ]
     },
     "metadata": {},
     "output_type": "display_data"
    },
    {
     "data": {
      "application/vnd.jupyter.widget-view+json": {
       "model_id": "1e5f5228a2264ba2b50604faf9ad9df3",
       "version_major": 2,
       "version_minor": 0
      },
      "text/plain": [
       "Validation: |          | 0/? [00:00<?, ?it/s]"
      ]
     },
     "metadata": {},
     "output_type": "display_data"
    },
    {
     "data": {
      "application/vnd.jupyter.widget-view+json": {
       "model_id": "a1f3a4ba16f04a6090f9f797b0945523",
       "version_major": 2,
       "version_minor": 0
      },
      "text/plain": [
       "Validation: |          | 0/? [00:00<?, ?it/s]"
      ]
     },
     "metadata": {},
     "output_type": "display_data"
    },
    {
     "data": {
      "application/vnd.jupyter.widget-view+json": {
       "model_id": "c0821bd9ba1a415793036c4a9ea9d42a",
       "version_major": 2,
       "version_minor": 0
      },
      "text/plain": [
       "Validation: |          | 0/? [00:00<?, ?it/s]"
      ]
     },
     "metadata": {},
     "output_type": "display_data"
    },
    {
     "data": {
      "application/vnd.jupyter.widget-view+json": {
       "model_id": "b649b28d985649b4b375c2306c64bafb",
       "version_major": 2,
       "version_minor": 0
      },
      "text/plain": [
       "Validation: |          | 0/? [00:00<?, ?it/s]"
      ]
     },
     "metadata": {},
     "output_type": "display_data"
    },
    {
     "data": {
      "application/vnd.jupyter.widget-view+json": {
       "model_id": "91d20696cfd948e7b61ee635e493add9",
       "version_major": 2,
       "version_minor": 0
      },
      "text/plain": [
       "Validation: |          | 0/? [00:00<?, ?it/s]"
      ]
     },
     "metadata": {},
     "output_type": "display_data"
    },
    {
     "data": {
      "application/vnd.jupyter.widget-view+json": {
       "model_id": "a3c872e496694ab2b92275dcefba97ee",
       "version_major": 2,
       "version_minor": 0
      },
      "text/plain": [
       "Validation: |          | 0/? [00:00<?, ?it/s]"
      ]
     },
     "metadata": {},
     "output_type": "display_data"
    },
    {
     "data": {
      "application/vnd.jupyter.widget-view+json": {
       "model_id": "1fc2cf7404434701ace0fb65a1835c98",
       "version_major": 2,
       "version_minor": 0
      },
      "text/plain": [
       "Validation: |          | 0/? [00:00<?, ?it/s]"
      ]
     },
     "metadata": {},
     "output_type": "display_data"
    },
    {
     "data": {
      "application/vnd.jupyter.widget-view+json": {
       "model_id": "6b81dfd0a12748abbb4329b059fd3882",
       "version_major": 2,
       "version_minor": 0
      },
      "text/plain": [
       "Validation: |          | 0/? [00:00<?, ?it/s]"
      ]
     },
     "metadata": {},
     "output_type": "display_data"
    },
    {
     "data": {
      "application/vnd.jupyter.widget-view+json": {
       "model_id": "aa045088b7a04a1c8a80af77e4b1c242",
       "version_major": 2,
       "version_minor": 0
      },
      "text/plain": [
       "Validation: |          | 0/? [00:00<?, ?it/s]"
      ]
     },
     "metadata": {},
     "output_type": "display_data"
    },
    {
     "data": {
      "application/vnd.jupyter.widget-view+json": {
       "model_id": "0e75d073aa6042d499c2dfecc95422e8",
       "version_major": 2,
       "version_minor": 0
      },
      "text/plain": [
       "Validation: |          | 0/? [00:00<?, ?it/s]"
      ]
     },
     "metadata": {},
     "output_type": "display_data"
    },
    {
     "data": {
      "application/vnd.jupyter.widget-view+json": {
       "model_id": "723822017a6841cb9eb93b30863df8fc",
       "version_major": 2,
       "version_minor": 0
      },
      "text/plain": [
       "Validation: |          | 0/? [00:00<?, ?it/s]"
      ]
     },
     "metadata": {},
     "output_type": "display_data"
    },
    {
     "data": {
      "application/vnd.jupyter.widget-view+json": {
       "model_id": "ec2d70d1f061458caedb2d3b2ea7686d",
       "version_major": 2,
       "version_minor": 0
      },
      "text/plain": [
       "Validation: |          | 0/? [00:00<?, ?it/s]"
      ]
     },
     "metadata": {},
     "output_type": "display_data"
    },
    {
     "data": {
      "application/vnd.jupyter.widget-view+json": {
       "model_id": "98083a2e14234b95a3efd03f72979ff5",
       "version_major": 2,
       "version_minor": 0
      },
      "text/plain": [
       "Validation: |          | 0/? [00:00<?, ?it/s]"
      ]
     },
     "metadata": {},
     "output_type": "display_data"
    },
    {
     "name": "stderr",
     "output_type": "stream",
     "text": [
      "`Trainer.fit` stopped: `max_epochs=25` reached.\n",
      "Restoring states from the checkpoint path at ./lightning_logs/coursework/finetune_chestxray/version_0/checkpoints/epoch=21-step=3256.ckpt\n",
      "Loaded model weights from the checkpoint at ./lightning_logs/coursework/finetune_chestxray/version_0/checkpoints/epoch=21-step=3256.ckpt\n"
     ]
    },
    {
     "data": {
      "application/vnd.jupyter.widget-view+json": {
       "model_id": "1b25814514714f48ac7d9db47fd5ded6",
       "version_major": 2,
       "version_minor": 0
      },
      "text/plain": [
       "Validation: |          | 0/? [00:00<?, ?it/s]"
      ]
     },
     "metadata": {},
     "output_type": "display_data"
    },
    {
     "name": "stdout",
     "output_type": "stream",
     "text": [
      "────────────────────────────────────────────────────────────────────────────────────────────────────────────────────────\n",
      "     Validate metric           DataLoader 0\n",
      "────────────────────────────────────────────────────────────────────────────────────────────────────────────────────────\n",
      "        val_auroc           0.9958899021148682\n",
      "        val_loss            0.07362958043813705\n",
      "────────────────────────────────────────────────────────────────────────────────────────────────────────────────────────\n"
     ]
    },
    {
     "name": "stderr",
     "output_type": "stream",
     "text": [
      "Restoring states from the checkpoint path at ./lightning_logs/coursework/finetune_chestxray/version_0/checkpoints/epoch=21-step=3256.ckpt\n",
      "Loaded model weights from the checkpoint at ./lightning_logs/coursework/finetune_chestxray/version_0/checkpoints/epoch=21-step=3256.ckpt\n"
     ]
    },
    {
     "data": {
      "application/vnd.jupyter.widget-view+json": {
       "model_id": "35f89ab26a4d40c7baa2d3dc01df8c3f",
       "version_major": 2,
       "version_minor": 0
      },
      "text/plain": [
       "Testing: |          | 0/? [00:00<?, ?it/s]"
      ]
     },
     "metadata": {},
     "output_type": "display_data"
    },
    {
     "name": "stdout",
     "output_type": "stream",
     "text": [
      "────────────────────────────────────────────────────────────────────────────────────────────────────────────────────────\n",
      "       Test metric             DataLoader 0\n",
      "────────────────────────────────────────────────────────────────────────────────────────────────────────────────────────\n",
      "       test_auroc           0.9633634686470032\n",
      "        test_loss           0.46492835879325867\n",
      "────────────────────────────────────────────────────────────────────────────────────────────────────────────────────────\n"
     ]
    },
    {
     "data": {
      "text/plain": [
       "[{'test_loss': 0.46492835879325867, 'test_auroc': 0.9633634686470032}]"
      ]
     },
     "execution_count": 98,
     "metadata": {},
     "output_type": "execute_result"
    }
   ],
   "source": [
    "seed_everything(33, workers=True)\n",
    "\n",
    "data = PneumoniaMNISTDataModule(batch_size=32)\n",
    "\n",
    "# TASK: Implement the model finetuning training and testing routines.\n",
    "\n",
    "# Model 1: Finetuning with the ImageNet pre-trained encoder\n",
    "model = ImageClassifier(pretrained_encoder=load_encoder_from_checkpoint(imagenet_model), freeze_encoder=False)\n",
    "trainer = Trainer(\n",
    "    max_epochs=25,\n",
    "    accelerator='auto',\n",
    "    devices=1,\n",
    "    log_every_n_steps=5,\n",
    "    logger=TensorBoardLogger(save_dir='./lightning_logs/coursework/', name='finetune_imagenet'),\n",
    "    callbacks=[ModelCheckpoint(monitor='val_loss', mode='min'), TQDMProgressBar(refresh_rate=10)]\n",
    ")\n",
    "trainer.fit(model=model, datamodule=data)\n",
    "trainer.validate(model=model, datamodule=data, ckpt_path=trainer.checkpoint_callback.best_model_path)\n",
    "trainer.test(model=model, datamodule=data, ckpt_path=trainer.checkpoint_callback.best_model_path)\n",
    "\n",
    "# Model 2: Finetuning with the SimCLR pre-trained encoder\n",
    "model = ImageClassifier(pretrained_encoder=load_encoder_from_checkpoint(chestxray_model), freeze_encoder=False)\n",
    "trainer = Trainer(\n",
    "    max_epochs=25,\n",
    "    accelerator='auto',\n",
    "    devices=1,\n",
    "    log_every_n_steps=5,\n",
    "    logger=TensorBoardLogger(save_dir='./lightning_logs/coursework/', name='finetune_chestxray'),\n",
    "    callbacks=[ModelCheckpoint(monitor='val_loss', mode='min'), TQDMProgressBar(refresh_rate=10)]\n",
    ")\n",
    "trainer.fit(model=model, datamodule=data)\n",
    "trainer.validate(model=model, datamodule=data, ckpt_path=trainer.checkpoint_callback.best_model_path)\n",
    "trainer.test(model=model, datamodule=data, ckpt_path=trainer.checkpoint_callback.best_model_path)"
   ]
  },
  {
   "cell_type": "markdown",
   "metadata": {
    "id": "u9vluYnwSOGT"
   },
   "source": [
    "### **Task C-4:** Your evaluation report.\n",
    "\n",
    "Provide a brief summary (no more than 300 words) with an analysis of your findings. Try explaining the observed performance."
   ]
  },
  {
   "cell_type": "markdown",
   "metadata": {},
   "source": [
    "\n",
    "The comparison between two image encoders—SimCLR, trained on chest X-rays, and an ImageNet-trained encoder—on the PneumoniaMNIST dataset highlights the impact of domain-specific pre-training and contrastive learning. The SimCLR encoder outperforms its ImageNet counterpart (AUROC of 0.89 vs. 0.79 in linear probing reported on the test set) due to its training on a relevant domain, capturing features better suited for medical tasks like pneumonia detection. \n",
    "\n",
    "Contrastive learning's role in the SimCLR encoder's success underscores the value of learning discriminative features through augmentation strategies. It is worth noting that upon fine-tuning both encoders on the PneumoniaMNIST dataset, the initial performance gap narrows, with both models achieving around 0.96 AUROC. This convergence suggests that fine-tuning effectively mitigates the domain-specific advantage by allowing both models to adjust to the task at hand (i.e. pneumonia detection in chest X-ray).\n",
    "\n",
    "The choice of AUROC as a performance metric over accuracy is particularly justified in this medical imaging context where the cost of false negatives is critical. AUROC provides a more \"refined\" measure of model performance, especially useful in datasets with class imbalance, offering a more reliable assessment than accuracy. Accuracy is known to be \"susceptible\" to predicting the majority class, whereas AUROC is better suited for medical tasks where there is often class imbalance and failing to detect a condition when it is present, might have severe consequences.\n",
    "\n",
    "In conclusion, the initial advantage of the SimCLR encoder showcases the benefits of domain-specific pre-training and contrastive learning in medical imaging. However, the closely matched performance post-fine-tuning emphasizes the potential of both models to adapt to the task at hand. "
   ]
  },
  {
   "cell_type": "markdown",
   "metadata": {},
   "source": [
    "## Logging"
   ]
  },
  {
   "cell_type": "code",
   "execution_count": null,
   "metadata": {},
   "outputs": [],
   "source": [
    "%load_ext tensorboard\n",
    "%tensorboard --logdir './lightning_logs/coursework/'"
   ]
  }
 ],
 "metadata": {
  "accelerator": "GPU",
  "colab": {
   "gpuType": "T4",
   "provenance": []
  },
  "kernelspec": {
   "display_name": "Python 3 (ipykernel)",
   "language": "python",
   "name": "python3"
  },
  "language_info": {
   "codemirror_mode": {
    "name": "ipython",
    "version": 3
   },
   "file_extension": ".py",
   "mimetype": "text/x-python",
   "name": "python",
   "nbconvert_exporter": "python",
   "pygments_lexer": "ipython3",
   "version": "3.12.0"
  }
 },
 "nbformat": 4,
 "nbformat_minor": 0
}
